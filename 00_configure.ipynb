{
  "cells": [
    {
      "cell_type": "markdown",
      "source": [
        "# **Azure OpenAI Autogen Configuration**\n",
        "\n",
        "Intended for use with Azure Machine Learning \n",
        "\n",
        "Assumes Autogen 0.2\n",
        "\n",
        "Kernel Python 3.10 - SDK V2\n",
        "\n",
        "----------------------------\n",
        "\n",
        "Last Updated: November 5, 2024\n",
        "\n",
        "Program Created: November 5, 2024\n",
        "\n",
        "Mark Tabladillo"
      ],
      "metadata": {
        "nteract": {
          "transient": {
            "deleting": false
          }
        }
      }
    },
    {
      "cell_type": "code",
      "source": [
        "%pip install autogen-agentchat~=0.2\n",
        "%pip install ipywidgets\n",
        "%pip install flaml[automl]"
      ],
      "outputs": [
        {
          "output_type": "stream",
          "name": "stdout",
          "text": "Requirement already satisfied: autogen-agentchat~=0.2 in /anaconda/envs/azureml_py310_sdkv2/lib/python3.10/site-packages (0.2.37)\nRequirement already satisfied: diskcache in /anaconda/envs/azureml_py310_sdkv2/lib/python3.10/site-packages (from autogen-agentchat~=0.2) (5.6.3)\nRequirement already satisfied: docker in /anaconda/envs/azureml_py310_sdkv2/lib/python3.10/site-packages (from autogen-agentchat~=0.2) (7.1.0)\nRequirement already satisfied: flaml in /anaconda/envs/azureml_py310_sdkv2/lib/python3.10/site-packages (from autogen-agentchat~=0.2) (2.3.2)\nRequirement already satisfied: numpy<2,>=1.17.0 in /anaconda/envs/azureml_py310_sdkv2/lib/python3.10/site-packages (from autogen-agentchat~=0.2) (1.26.4)\nRequirement already satisfied: openai>=1.3 in /anaconda/envs/azureml_py310_sdkv2/lib/python3.10/site-packages (from autogen-agentchat~=0.2) (1.3.7)\nRequirement already satisfied: packaging in /anaconda/envs/azureml_py310_sdkv2/lib/python3.10/site-packages (from autogen-agentchat~=0.2) (23.2)\nRequirement already satisfied: pydantic!=2.6.0,<3,>=1.10 in /anaconda/envs/azureml_py310_sdkv2/lib/python3.10/site-packages (from autogen-agentchat~=0.2) (2.9.2)\nRequirement already satisfied: python-dotenv in /anaconda/envs/azureml_py310_sdkv2/lib/python3.10/site-packages (from autogen-agentchat~=0.2) (1.0.1)\nRequirement already satisfied: termcolor in /anaconda/envs/azureml_py310_sdkv2/lib/python3.10/site-packages (from autogen-agentchat~=0.2) (2.5.0)\nRequirement already satisfied: tiktoken in /anaconda/envs/azureml_py310_sdkv2/lib/python3.10/site-packages (from autogen-agentchat~=0.2) (0.8.0)\nRequirement already satisfied: anyio<4,>=3.5.0 in /anaconda/envs/azureml_py310_sdkv2/lib/python3.10/site-packages (from openai>=1.3->autogen-agentchat~=0.2) (3.7.1)\nRequirement already satisfied: distro<2,>=1.7.0 in /anaconda/envs/azureml_py310_sdkv2/lib/python3.10/site-packages (from openai>=1.3->autogen-agentchat~=0.2) (1.9.0)\nRequirement already satisfied: httpx<1,>=0.23.0 in /anaconda/envs/azureml_py310_sdkv2/lib/python3.10/site-packages (from openai>=1.3->autogen-agentchat~=0.2) (0.27.2)\nRequirement already satisfied: sniffio in /anaconda/envs/azureml_py310_sdkv2/lib/python3.10/site-packages (from openai>=1.3->autogen-agentchat~=0.2) (1.3.1)\nRequirement already satisfied: tqdm>4 in /anaconda/envs/azureml_py310_sdkv2/lib/python3.10/site-packages (from openai>=1.3->autogen-agentchat~=0.2) (4.66.5)\nRequirement already satisfied: typing-extensions<5,>=4.5 in /anaconda/envs/azureml_py310_sdkv2/lib/python3.10/site-packages (from openai>=1.3->autogen-agentchat~=0.2) (4.12.2)\nRequirement already satisfied: annotated-types>=0.6.0 in /anaconda/envs/azureml_py310_sdkv2/lib/python3.10/site-packages (from pydantic!=2.6.0,<3,>=1.10->autogen-agentchat~=0.2) (0.7.0)\nRequirement already satisfied: pydantic-core==2.23.4 in /anaconda/envs/azureml_py310_sdkv2/lib/python3.10/site-packages (from pydantic!=2.6.0,<3,>=1.10->autogen-agentchat~=0.2) (2.23.4)\nRequirement already satisfied: requests>=2.26.0 in /anaconda/envs/azureml_py310_sdkv2/lib/python3.10/site-packages (from docker->autogen-agentchat~=0.2) (2.32.3)\nRequirement already satisfied: urllib3>=1.26.0 in /anaconda/envs/azureml_py310_sdkv2/lib/python3.10/site-packages (from docker->autogen-agentchat~=0.2) (2.2.3)\nRequirement already satisfied: regex>=2022.1.18 in /anaconda/envs/azureml_py310_sdkv2/lib/python3.10/site-packages (from tiktoken->autogen-agentchat~=0.2) (2024.9.11)\nRequirement already satisfied: idna>=2.8 in /anaconda/envs/azureml_py310_sdkv2/lib/python3.10/site-packages (from anyio<4,>=3.5.0->openai>=1.3->autogen-agentchat~=0.2) (3.10)\nRequirement already satisfied: exceptiongroup in /anaconda/envs/azureml_py310_sdkv2/lib/python3.10/site-packages (from anyio<4,>=3.5.0->openai>=1.3->autogen-agentchat~=0.2) (1.2.2)\nRequirement already satisfied: certifi in /anaconda/envs/azureml_py310_sdkv2/lib/python3.10/site-packages (from httpx<1,>=0.23.0->openai>=1.3->autogen-agentchat~=0.2) (2024.8.30)\nRequirement already satisfied: httpcore==1.* in /anaconda/envs/azureml_py310_sdkv2/lib/python3.10/site-packages (from httpx<1,>=0.23.0->openai>=1.3->autogen-agentchat~=0.2) (1.0.6)\nRequirement already satisfied: h11<0.15,>=0.13 in /anaconda/envs/azureml_py310_sdkv2/lib/python3.10/site-packages (from httpcore==1.*->httpx<1,>=0.23.0->openai>=1.3->autogen-agentchat~=0.2) (0.14.0)\nRequirement already satisfied: charset-normalizer<4,>=2 in /anaconda/envs/azureml_py310_sdkv2/lib/python3.10/site-packages (from requests>=2.26.0->docker->autogen-agentchat~=0.2) (3.3.2)\nNote: you may need to restart the kernel to use updated packages.\nRequirement already satisfied: ipywidgets in /anaconda/envs/azureml_py310_sdkv2/lib/python3.10/site-packages (8.1.5)\nRequirement already satisfied: comm>=0.1.3 in /anaconda/envs/azureml_py310_sdkv2/lib/python3.10/site-packages (from ipywidgets) (0.2.2)\nRequirement already satisfied: ipython>=6.1.0 in /anaconda/envs/azureml_py310_sdkv2/lib/python3.10/site-packages (from ipywidgets) (8.27.0)\nRequirement already satisfied: traitlets>=4.3.1 in /anaconda/envs/azureml_py310_sdkv2/lib/python3.10/site-packages (from ipywidgets) (5.14.3)\nRequirement already satisfied: widgetsnbextension~=4.0.12 in /anaconda/envs/azureml_py310_sdkv2/lib/python3.10/site-packages (from ipywidgets) (4.0.13)\nRequirement already satisfied: jupyterlab-widgets~=3.0.12 in /anaconda/envs/azureml_py310_sdkv2/lib/python3.10/site-packages (from ipywidgets) (3.0.13)\nRequirement already satisfied: decorator in /anaconda/envs/azureml_py310_sdkv2/lib/python3.10/site-packages (from ipython>=6.1.0->ipywidgets) (5.1.1)\nRequirement already satisfied: jedi>=0.16 in /anaconda/envs/azureml_py310_sdkv2/lib/python3.10/site-packages (from ipython>=6.1.0->ipywidgets) (0.19.1)\nRequirement already satisfied: matplotlib-inline in /anaconda/envs/azureml_py310_sdkv2/lib/python3.10/site-packages (from ipython>=6.1.0->ipywidgets) (0.1.7)\nRequirement already satisfied: prompt-toolkit<3.1.0,>=3.0.41 in /anaconda/envs/azureml_py310_sdkv2/lib/python3.10/site-packages (from ipython>=6.1.0->ipywidgets) (3.0.47)\nRequirement already satisfied: pygments>=2.4.0 in /anaconda/envs/azureml_py310_sdkv2/lib/python3.10/site-packages (from ipython>=6.1.0->ipywidgets) (2.18.0)\nRequirement already satisfied: stack-data in /anaconda/envs/azureml_py310_sdkv2/lib/python3.10/site-packages (from ipython>=6.1.0->ipywidgets) (0.6.2)\nRequirement already satisfied: exceptiongroup in /anaconda/envs/azureml_py310_sdkv2/lib/python3.10/site-packages (from ipython>=6.1.0->ipywidgets) (1.2.2)\nRequirement already satisfied: typing-extensions>=4.6 in /anaconda/envs/azureml_py310_sdkv2/lib/python3.10/site-packages (from ipython>=6.1.0->ipywidgets) (4.12.2)\nRequirement already satisfied: pexpect>4.3 in /anaconda/envs/azureml_py310_sdkv2/lib/python3.10/site-packages (from ipython>=6.1.0->ipywidgets) (4.9.0)\nRequirement already satisfied: parso<0.9.0,>=0.8.3 in /anaconda/envs/azureml_py310_sdkv2/lib/python3.10/site-packages (from jedi>=0.16->ipython>=6.1.0->ipywidgets) (0.8.4)\nRequirement already satisfied: ptyprocess>=0.5 in /anaconda/envs/azureml_py310_sdkv2/lib/python3.10/site-packages (from pexpect>4.3->ipython>=6.1.0->ipywidgets) (0.7.0)\nRequirement already satisfied: wcwidth in /anaconda/envs/azureml_py310_sdkv2/lib/python3.10/site-packages (from prompt-toolkit<3.1.0,>=3.0.41->ipython>=6.1.0->ipywidgets) (0.2.13)\nRequirement already satisfied: executing>=1.2.0 in /anaconda/envs/azureml_py310_sdkv2/lib/python3.10/site-packages (from stack-data->ipython>=6.1.0->ipywidgets) (2.1.0)\nRequirement already satisfied: asttokens>=2.1.0 in /anaconda/envs/azureml_py310_sdkv2/lib/python3.10/site-packages (from stack-data->ipython>=6.1.0->ipywidgets) (2.4.1)\nRequirement already satisfied: pure-eval in /anaconda/envs/azureml_py310_sdkv2/lib/python3.10/site-packages (from stack-data->ipython>=6.1.0->ipywidgets) (0.2.3)\nRequirement already satisfied: six>=1.12.0 in /anaconda/envs/azureml_py310_sdkv2/lib/python3.10/site-packages (from asttokens>=2.1.0->stack-data->ipython>=6.1.0->ipywidgets) (1.16.0)\nNote: you may need to restart the kernel to use updated packages.\nRequirement already satisfied: flaml[automl] in /anaconda/envs/azureml_py310_sdkv2/lib/python3.10/site-packages (2.3.2)\nRequirement already satisfied: NumPy>=1.17 in /anaconda/envs/azureml_py310_sdkv2/lib/python3.10/site-packages (from flaml[automl]) (1.26.4)\nRequirement already satisfied: lightgbm>=2.3.1 in /anaconda/envs/azureml_py310_sdkv2/lib/python3.10/site-packages (from flaml[automl]) (4.5.0)\nRequirement already satisfied: xgboost<3.0.0,>=0.90 in /anaconda/envs/azureml_py310_sdkv2/lib/python3.10/site-packages (from flaml[automl]) (2.1.2)\nRequirement already satisfied: scipy>=1.4.1 in /anaconda/envs/azureml_py310_sdkv2/lib/python3.10/site-packages (from flaml[automl]) (1.14.1)\nRequirement already satisfied: pandas>=1.1.4 in /anaconda/envs/azureml_py310_sdkv2/lib/python3.10/site-packages (from flaml[automl]) (2.2.3)\nRequirement already satisfied: scikit-learn>=1.0.0 in /anaconda/envs/azureml_py310_sdkv2/lib/python3.10/site-packages (from flaml[automl]) (1.5.2)\nRequirement already satisfied: python-dateutil>=2.8.2 in /anaconda/envs/azureml_py310_sdkv2/lib/python3.10/site-packages (from pandas>=1.1.4->flaml[automl]) (2.9.0)\nRequirement already satisfied: pytz>=2020.1 in /anaconda/envs/azureml_py310_sdkv2/lib/python3.10/site-packages (from pandas>=1.1.4->flaml[automl]) (2024.2)\nRequirement already satisfied: tzdata>=2022.7 in /anaconda/envs/azureml_py310_sdkv2/lib/python3.10/site-packages (from pandas>=1.1.4->flaml[automl]) (2024.1)\nRequirement already satisfied: joblib>=1.2.0 in /anaconda/envs/azureml_py310_sdkv2/lib/python3.10/site-packages (from scikit-learn>=1.0.0->flaml[automl]) (1.4.2)\nRequirement already satisfied: threadpoolctl>=3.1.0 in /anaconda/envs/azureml_py310_sdkv2/lib/python3.10/site-packages (from scikit-learn>=1.0.0->flaml[automl]) (3.5.0)\nRequirement already satisfied: nvidia-nccl-cu12 in /anaconda/envs/azureml_py310_sdkv2/lib/python3.10/site-packages (from xgboost<3.0.0,>=0.90->flaml[automl]) (2.23.4)\nRequirement already satisfied: six>=1.5 in /anaconda/envs/azureml_py310_sdkv2/lib/python3.10/site-packages (from python-dateutil>=2.8.2->pandas>=1.1.4->flaml[automl]) (1.16.0)\nNote: you may need to restart the kernel to use updated packages.\n"
        }
      ],
      "execution_count": 1,
      "metadata": {}
    }
  ],
  "metadata": {
    "kernelspec": {
      "name": "python310-sdkv2",
      "language": "python",
      "display_name": "Python 3.10 - SDK v2"
    },
    "language_info": {
      "name": "python",
      "version": "3.10.14",
      "mimetype": "text/x-python",
      "codemirror_mode": {
        "name": "ipython",
        "version": 3
      },
      "pygments_lexer": "ipython3",
      "nbconvert_exporter": "python",
      "file_extension": ".py"
    },
    "microsoft": {
      "ms_spell_check": {
        "ms_spell_check_language": "en"
      }
    },
    "kernel_info": {
      "name": "python310-sdkv2"
    },
    "nteract": {
      "version": "nteract-front-end@1.0.0"
    }
  },
  "nbformat": 4,
  "nbformat_minor": 2
}