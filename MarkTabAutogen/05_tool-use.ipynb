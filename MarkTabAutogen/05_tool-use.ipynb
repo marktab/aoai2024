{
  "cells": [
    {
      "cell_type": "markdown",
      "source": [
        "# Tool Use\n",
        "\n",
        "In the previous chapter, we explored code executors which give\n",
        "agents the super power of programming.\n",
        "Agents writing arbitrary code is useful, however,\n",
        "controlling what code an agent writes can be challenging. \n",
        "This is where tools come in.\n",
        "\n",
        "Tools are pre-defined functions that agents can use. Instead of writing arbitrary\n",
        "code, agents can call tools to perform actions, such as searching the web,\n",
        "performing calculations, reading files, or calling remote APIs.\n",
        "Because you can control what tools are available to an agent, you can control what\n",
        "actions an agent can perform.\n",
        "\n",
        "````mdx-code-block\n",
        ":::note\n",
        "Tool use is currently only available for LLMs\n",
        "that support OpenAI-compatible tool call API.\n",
        ":::\n",
        "````"
      ],
      "metadata": {}
    },
    {
      "cell_type": "markdown",
      "source": [
        "## Creating Tools\n",
        "\n",
        "Tools can be created as regular Python functions.\n",
        "For example, let's create a calculator tool which\n",
        "can only perform a single operation at a time."
      ],
      "metadata": {}
    },
    {
      "cell_type": "code",
      "source": [
        "from typing import Annotated, Literal\n",
        "\n",
        "Operator = Literal[\"+\", \"-\", \"*\", \"/\"]\n",
        "\n",
        "\n",
        "def calculator(a: int, b: int, operator: Annotated[Operator, \"operator\"]) -> int:\n",
        "    if operator == \"+\":\n",
        "        return a + b\n",
        "    elif operator == \"-\":\n",
        "        return a - b\n",
        "    elif operator == \"*\":\n",
        "        return a * b\n",
        "    elif operator == \"/\":\n",
        "        return int(a / b)\n",
        "    else:\n",
        "        raise ValueError(\"Invalid operator\")"
      ],
      "outputs": [],
      "execution_count": 1,
      "metadata": {
        "ExecuteTime": {
          "end_time": "2024-04-25T01:49:48.858694Z",
          "start_time": "2024-04-25T01:49:48.854420Z"
        },
        "gather": {
          "logged": 1730871136544
        }
      }
    },
    {
      "cell_type": "markdown",
      "source": [
        "The above function takes three arguments:\n",
        "`a` and `b` are the integer numbers to be operated on;\n",
        "`operator` is the operation to be performed.\n",
        "We used type hints to define the types of the arguments and the return value.\n",
        "\n",
        "````mdx-code-block\n",
        ":::tip\n",
        "Always use type hints to define the types of the arguments and the return value\n",
        "as they provide helpful hints to the agent about the tool's usage.\n",
        ":::\n",
        "````"
      ],
      "metadata": {}
    },
    {
      "cell_type": "markdown",
      "source": [
        "## Registering Tools\n",
        "\n",
        "Once you have created a tool, you can register it with the agents that\n",
        "are involved in conversation."
      ],
      "metadata": {}
    },
    {
      "cell_type": "code",
      "source": [
        "import os\n",
        "\n",
        "from autogen import ConversableAgent\n",
        "from dotenv import load_dotenv\n",
        "load_dotenv('credentials.env') \n",
        "\n",
        "config_list = [\n",
        "    {\n",
        "        \"model\":  os.environ['AZURE_OPENAI_LLM_DEPLOYMENT'],\n",
        "        \"api_key\": os.environ['AZURE_OPENAI_API_KEY'],\n",
        "        \"azure_endpoint\": os.environ['AZURE_OPENAI_ENDPOINT'],\n",
        "        \"api_type\": \"azure\",\n",
        "        \"api_version\": \"2024-02-15-preview\"\n",
        "    }\n",
        "]"
      ],
      "outputs": [],
      "execution_count": 2,
      "metadata": {
        "jupyter": {
          "source_hidden": false,
          "outputs_hidden": false
        },
        "nteract": {
          "transient": {
            "deleting": false
          }
        },
        "gather": {
          "logged": 1730871200421
        }
      }
    },
    {
      "cell_type": "code",
      "source": [
        "# Let's first define the assistant agent that suggests tool calls.\n",
        "assistant = ConversableAgent(\n",
        "    name=\"Assistant\",\n",
        "    system_message=\"You are a helpful AI assistant. \"\n",
        "    \"You can help with simple calculations. \"\n",
        "    \"Return 'TERMINATE' when the task is done.\",\n",
        "    llm_config={\n",
        "        \"cache_seed\": None,\n",
        "        \"config_list\": config_list\n",
        "    },\n",
        ")\n",
        "\n",
        "# The user proxy agent is used for interacting with the assistant agent\n",
        "# and executes tool calls.\n",
        "user_proxy = ConversableAgent(\n",
        "    name=\"User\",\n",
        "    llm_config=False,\n",
        "    is_termination_msg=lambda msg: msg.get(\"content\") is not None and \"TERMINATE\" in msg[\"content\"],\n",
        "    human_input_mode=\"NEVER\",\n",
        ")\n",
        "\n",
        "# Register the tool signature with the assistant agent.\n",
        "assistant.register_for_llm(name=\"calculator\", description=\"A simple calculator\")(calculator)\n",
        "\n",
        "# Register the tool function with the user proxy agent.\n",
        "user_proxy.register_for_execution(name=\"calculator\")(calculator)"
      ],
      "outputs": [
        {
          "output_type": "execute_result",
          "execution_count": 3,
          "data": {
            "text/plain": "<function __main__.calculator(a: int, b: int, operator: Annotated[Literal['+', '-', '*', '/'], 'operator']) -> int>"
          },
          "metadata": {}
        }
      ],
      "execution_count": 3,
      "metadata": {
        "ExecuteTime": {
          "end_time": "2024-04-25T01:49:48.946697Z",
          "start_time": "2024-04-25T01:49:48.857869Z"
        },
        "gather": {
          "logged": 1730871251522
        }
      }
    },
    {
      "cell_type": "markdown",
      "source": [
        "In the above code, we registered the `calculator` function as a tool with\n",
        "the assistant and user proxy agents. We also provide a name and a description\n",
        "for the tool for the assistant agent to understand its usage.\n",
        "\n",
        "````mdx-code-block\n",
        ":::tip\n",
        "Always provide a clear and concise description for the tool as it helps the\n",
        "agent's underlying LLM to understand the tool's usage.\n",
        ":::\n",
        "````\n",
        "\n",
        "Similar to code executors, a tool must be registered with at least two agents\n",
        "for it to be useful in conversation. \n",
        "The agent registered with the tool's signature\n",
        "through \n",
        "[`register_for_llm`](/docs/reference/agentchat/conversable_agent#register_for_llm)\n",
        "can call the tool;\n",
        "the agent registered with the tool's function object through \n",
        "[`register_for_execution`](/docs/reference/agentchat/conversable_agent#register_for_execution)\n",
        "can execute the tool's function."
      ],
      "metadata": {}
    },
    {
      "cell_type": "markdown",
      "source": [
        "Alternatively, you can use \n",
        "[`autogen.register_function`](/docs/reference/agentchat/conversable_agent#register_function-1)\n",
        "function to register a tool with both agents at once."
      ],
      "metadata": {}
    },
    {
      "cell_type": "code",
      "source": [
        "from autogen import register_function\n",
        "\n",
        "# Register the calculator function to the two agents.\n",
        "register_function(\n",
        "    calculator,\n",
        "    caller=assistant,  # The assistant agent can suggest calls to the calculator.\n",
        "    executor=user_proxy,  # The user proxy agent can execute the calculator calls.\n",
        "    name=\"calculator\",  # By default, the function name is used as the tool name.\n",
        "    description=\"A simple calculator\",  # A description of the tool.\n",
        ")"
      ],
      "outputs": [
        {
          "output_type": "stream",
          "name": "stderr",
          "text": "/anaconda/envs/azureml_py310_sdkv2/lib/python3.10/site-packages/autogen/agentchat/conversable_agent.py:2585: UserWarning: Function 'calculator' is being overridden.\n  warnings.warn(f\"Function '{tool_sig['function']['name']}' is being overridden.\", UserWarning)\n/anaconda/envs/azureml_py310_sdkv2/lib/python3.10/site-packages/autogen/agentchat/conversable_agent.py:2504: UserWarning: Function 'calculator' is being overridden.\n  warnings.warn(f\"Function '{name}' is being overridden.\", UserWarning)\n"
        }
      ],
      "execution_count": 4,
      "metadata": {
        "ExecuteTime": {
          "end_time": "2024-04-25T01:49:48.953345Z",
          "start_time": "2024-04-25T01:49:48.947026Z"
        },
        "gather": {
          "logged": 1730871263507
        }
      }
    },
    {
      "cell_type": "markdown",
      "source": [
        "## Using Tool\n",
        "\n",
        "Once the tool is registered, we can use it in conversation.\n",
        "In the code below, we ask the assistant to perform some arithmetic\n",
        "calculation using the `calculator` tool."
      ],
      "metadata": {}
    },
    {
      "cell_type": "code",
      "source": [
        "chat_result = user_proxy.initiate_chat(assistant, message=\"What is 100 * (256/16) +?\")"
      ],
      "outputs": [
        {
          "output_type": "stream",
          "name": "stdout",
          "text": "\u001b[33mUser\u001b[0m (to Assistant):\n\nWhat is 100 * (256/16) + 5?\n\n--------------------------------------------------------------------------------\n\u001b[31m\n>>>>>>>> USING AUTO REPLY...\u001b[0m\n\u001b[33mAssistant\u001b[0m (to User):\n\n\u001b[32m***** Suggested tool call (call_Dr4oeSWJpAyZuQnmmhcZRfni): calculator *****\u001b[0m\nArguments: \n{\"a\":256,\"b\":16,\"operator\":\"/\"}\n\u001b[32m***************************************************************************\u001b[0m\n\n--------------------------------------------------------------------------------\n\u001b[35m\n>>>>>>>> EXECUTING FUNCTION calculator...\u001b[0m\n\u001b[33mUser\u001b[0m (to Assistant):\n\n\u001b[33mUser\u001b[0m (to Assistant):\n\n\u001b[32m***** Response from calling tool (call_Dr4oeSWJpAyZuQnmmhcZRfni) *****\u001b[0m\n16\n\u001b[32m**********************************************************************\u001b[0m\n\n--------------------------------------------------------------------------------\n\u001b[31m\n>>>>>>>> USING AUTO REPLY...\u001b[0m\n\u001b[33mAssistant\u001b[0m (to User):\n\n\u001b[32m***** Suggested tool call (call_e5bszt5KlIXtOUgEWWhCczXE): calculator *****\u001b[0m\nArguments: \n{\"a\":100,\"b\":16,\"operator\":\"*\"}\n\u001b[32m***************************************************************************\u001b[0m\n\n--------------------------------------------------------------------------------\n\u001b[35m\n>>>>>>>> EXECUTING FUNCTION calculator...\u001b[0m\n\u001b[33mUser\u001b[0m (to Assistant):\n\n\u001b[33mUser\u001b[0m (to Assistant):\n\n\u001b[32m***** Response from calling tool (call_e5bszt5KlIXtOUgEWWhCczXE) *****\u001b[0m\n1600\n\u001b[32m**********************************************************************\u001b[0m\n\n--------------------------------------------------------------------------------\n\u001b[31m\n>>>>>>>> USING AUTO REPLY...\u001b[0m\n\u001b[33mAssistant\u001b[0m (to User):\n\n\u001b[32m***** Suggested tool call (call_ERtr6yYQ1yPXtvNPAN0HH94i): calculator *****\u001b[0m\nArguments: \n{\"a\":1600,\"b\":5,\"operator\":\"+\"}\n\u001b[32m***************************************************************************\u001b[0m\n\n--------------------------------------------------------------------------------\n\u001b[35m\n>>>>>>>> EXECUTING FUNCTION calculator...\u001b[0m\n\u001b[33mUser\u001b[0m (to Assistant):\n\n\u001b[33mUser\u001b[0m (to Assistant):\n\n\u001b[32m***** Response from calling tool (call_ERtr6yYQ1yPXtvNPAN0HH94i) *****\u001b[0m\n1605\n\u001b[32m**********************************************************************\u001b[0m\n\n--------------------------------------------------------------------------------\n\u001b[31m\n>>>>>>>> USING AUTO REPLY...\u001b[0m\n\u001b[33mAssistant\u001b[0m (to User):\n\nThe result of 100 * (256/16) + 5 is 1605.\n\nTERMINATE\n\n--------------------------------------------------------------------------------\n"
        }
      ],
      "execution_count": 12,
      "metadata": {
        "jupyter": {
          "source_hidden": false,
          "outputs_hidden": false
        },
        "nteract": {
          "transient": {
            "deleting": false
          }
        },
        "gather": {
          "logged": 1730871723402
        }
      }
    },
    {
      "cell_type": "markdown",
      "source": [
        "Let's verify the answer:"
      ],
      "metadata": {}
    },
    {
      "cell_type": "code",
      "source": [
        "100 * (256/16) + 5"
      ],
      "outputs": [
        {
          "output_type": "execute_result",
          "execution_count": 13,
          "data": {
            "text/plain": "1605.0"
          },
          "metadata": {}
        }
      ],
      "execution_count": 13,
      "metadata": {
        "ExecuteTime": {
          "end_time": "2024-04-25T01:49:57.956063Z",
          "start_time": "2024-04-25T01:49:57.948882Z"
        },
        "gather": {
          "logged": 1730871736523
        }
      }
    },
    {
      "cell_type": "markdown",
      "source": [
        "The answer is correct.\n",
        "You can see that the assistant is able to understand the tool's usage\n",
        "and perform calculation correctly."
      ],
      "metadata": {}
    },
    {
      "cell_type": "markdown",
      "source": [
        "## Tool Schema\n",
        "\n",
        "If you are familiar with [OpenAI's tool use API](https://platform.openai.com/docs/guides/function-calling), \n",
        "you might be wondering\n",
        "why we didn't create a tool schema.\n",
        "In fact, the tool schema is automatically generated from the function signature\n",
        "and the type hints.\n",
        "You can see the tool schema by inspecting the `llm_config` attribute of the\n",
        "agent."
      ],
      "metadata": {}
    },
    {
      "cell_type": "code",
      "source": [
        "assistant.llm_config[\"tools\"]"
      ],
      "outputs": [
        {
          "output_type": "execute_result",
          "execution_count": 14,
          "data": {
            "text/plain": "[{'type': 'function',\n  'function': {'description': 'A simple calculator',\n   'name': 'calculator',\n   'parameters': {'type': 'object',\n    'properties': {'a': {'type': 'integer', 'description': 'a'},\n     'b': {'type': 'integer', 'description': 'b'},\n     'operator': {'enum': ['+', '-', '*', '/'],\n      'type': 'string',\n      'description': 'operator'}},\n    'required': ['a', 'b', 'operator']}}}]"
          },
          "metadata": {}
        }
      ],
      "execution_count": 14,
      "metadata": {
        "ExecuteTime": {
          "end_time": "2024-04-25T01:49:57.956696Z",
          "start_time": "2024-04-25T01:49:57.952767Z"
        },
        "gather": {
          "logged": 1730871763482
        }
      }
    },
    {
      "cell_type": "markdown",
      "source": [
        "You can see the tool schema has been automatically generated from the function\n",
        "signature and the type hints, as well as the description.\n",
        "This is why it is important to use type hints and provide a clear description\n",
        "for the tool as the LLM uses them to understand the tool's usage."
      ],
      "metadata": {}
    },
    {
      "cell_type": "markdown",
      "source": [
        "You can also use Pydantic model for the type hints to provide more complex\n",
        "type schema. In the example below, we use a Pydantic model to define the\n",
        "calculator input."
      ],
      "metadata": {}
    },
    {
      "cell_type": "code",
      "source": [
        "from pydantic import BaseModel, Field\n",
        "\n",
        "\n",
        "class CalculatorInput(BaseModel):\n",
        "    a: Annotated[int, Field(description=\"The first number.\")]\n",
        "    b: Annotated[int, Field(description=\"The second number.\")]\n",
        "    operator: Annotated[Operator, Field(description=\"The operator.\")]\n",
        "\n",
        "\n",
        "def calculator(input: Annotated[CalculatorInput, \"Input to the calculator.\"]) -> int:\n",
        "    if input.operator == \"+\":\n",
        "        return input.a + input.b\n",
        "    elif input.operator == \"-\":\n",
        "        return input.a - input.b\n",
        "    elif input.operator == \"*\":\n",
        "        return input.a * input.b\n",
        "    elif input.operator == \"/\":\n",
        "        return int(input.a / input.b)\n",
        "    else:\n",
        "        raise ValueError(\"Invalid operator\")"
      ],
      "outputs": [],
      "execution_count": 15,
      "metadata": {
        "ExecuteTime": {
          "end_time": "2024-04-25T01:49:57.965069Z",
          "start_time": "2024-04-25T01:49:57.958274Z"
        },
        "gather": {
          "logged": 1730871783445
        }
      }
    },
    {
      "cell_type": "markdown",
      "source": [
        "Same as before, we register the tool with the agents using the name `\"calculator\"`.\n",
        "\n",
        "````mdx-code-block\n",
        ":::tip\n",
        "Registering tool to the same name will override the previous tool.\n",
        ":::\n",
        "````"
      ],
      "metadata": {}
    },
    {
      "cell_type": "code",
      "source": [
        "assistant.register_for_llm(name=\"calculator\", description=\"A calculator tool that accepts nested expression as input\")(\n",
        "    calculator\n",
        ")\n",
        "user_proxy.register_for_execution(name=\"calculator\")(calculator)"
      ],
      "outputs": [
        {
          "output_type": "stream",
          "name": "stderr",
          "text": "/anaconda/envs/azureml_py310_sdkv2/lib/python3.10/site-packages/autogen/agentchat/conversable_agent.py:2585: UserWarning: Function 'calculator' is being overridden.\n  warnings.warn(f\"Function '{tool_sig['function']['name']}' is being overridden.\", UserWarning)\n/anaconda/envs/azureml_py310_sdkv2/lib/python3.10/site-packages/autogen/agentchat/conversable_agent.py:2504: UserWarning: Function 'calculator' is being overridden.\n  warnings.warn(f\"Function '{name}' is being overridden.\", UserWarning)\n"
        },
        {
          "output_type": "execute_result",
          "execution_count": 16,
          "data": {
            "text/plain": "<function __main__.calculator(input: typing.Annotated[__main__.CalculatorInput, 'Input to the calculator.']) -> int>"
          },
          "metadata": {}
        }
      ],
      "execution_count": 16,
      "metadata": {
        "ExecuteTime": {
          "end_time": "2024-04-25T01:49:57.990811Z",
          "start_time": "2024-04-25T01:49:57.962315Z"
        },
        "gather": {
          "logged": 1730871789537
        }
      }
    },
    {
      "cell_type": "markdown",
      "source": [
        "You can see the tool schema has been updated to reflect the new type schema."
      ],
      "metadata": {}
    },
    {
      "cell_type": "code",
      "source": [
        "assistant.llm_config[\"tools\"]"
      ],
      "outputs": [
        {
          "output_type": "execute_result",
          "execution_count": 17,
          "data": {
            "text/plain": "[{'type': 'function',\n  'function': {'description': 'A calculator tool that accepts nested expression as input',\n   'name': 'calculator',\n   'parameters': {'type': 'object',\n    'properties': {'input': {'properties': {'a': {'description': 'The first number.',\n        'title': 'A',\n        'type': 'integer'},\n       'b': {'description': 'The second number.',\n        'title': 'B',\n        'type': 'integer'},\n       'operator': {'description': 'The operator.',\n        'enum': ['+', '-', '*', '/'],\n        'title': 'Operator',\n        'type': 'string'}},\n      'required': ['a', 'b', 'operator'],\n      'title': 'CalculatorInput',\n      'type': 'object',\n      'description': 'Input to the calculator.'}},\n    'required': ['input']}}}]"
          },
          "metadata": {}
        }
      ],
      "execution_count": 17,
      "metadata": {
        "ExecuteTime": {
          "end_time": "2024-04-25T01:49:57.991342Z",
          "start_time": "2024-04-25T01:49:57.972554Z"
        },
        "gather": {
          "logged": 1730871794550
        }
      }
    },
    {
      "cell_type": "markdown",
      "source": [
        "Let's use the tool in conversation."
      ],
      "metadata": {}
    },
    {
      "cell_type": "code",
      "source": [
        "chat_result = user_proxy.initiate_chat(assistant, message=\"What is (1423 - 123) / 3 + (32 + 23) * 5?\")"
      ],
      "outputs": [
        {
          "output_type": "stream",
          "name": "stdout",
          "text": "\u001b[33mUser\u001b[0m (to Assistant):\n\nWhat is (1423 - 123) / 3 + (32 + 23) * 5?\n\n--------------------------------------------------------------------------------\n\u001b[31m\n>>>>>>>> USING AUTO REPLY...\u001b[0m\n\u001b[33mAssistant\u001b[0m (to User):\n\n\u001b[32m***** Suggested tool call (call_lfBywSf0ZWF9BReltAUOXjb8): calculator *****\u001b[0m\nArguments: \n{\"input\": {\"a\": 1423, \"b\": 123, \"operator\": \"-\"}}\n\u001b[32m***************************************************************************\u001b[0m\n\u001b[32m***** Suggested tool call (call_IOse5JMDfWLmNuqWzZ2Ze1i7): calculator *****\u001b[0m\nArguments: \n{\"input\": {\"a\": 32, \"b\": 23, \"operator\": \"+\"}}\n\u001b[32m***************************************************************************\u001b[0m\n\n--------------------------------------------------------------------------------\n\u001b[35m\n>>>>>>>> EXECUTING FUNCTION calculator...\u001b[0m\n\u001b[35m\n>>>>>>>> EXECUTING FUNCTION calculator...\u001b[0m\n\u001b[33mUser\u001b[0m (to Assistant):\n\n\u001b[33mUser\u001b[0m (to Assistant):\n\n\u001b[32m***** Response from calling tool (call_lfBywSf0ZWF9BReltAUOXjb8) *****\u001b[0m\n1300\n\u001b[32m**********************************************************************\u001b[0m\n\n--------------------------------------------------------------------------------\n\u001b[33mUser\u001b[0m (to Assistant):\n\n\u001b[32m***** Response from calling tool (call_IOse5JMDfWLmNuqWzZ2Ze1i7) *****\u001b[0m\n55\n\u001b[32m**********************************************************************\u001b[0m\n\n--------------------------------------------------------------------------------\n\u001b[31m\n>>>>>>>> USING AUTO REPLY...\u001b[0m\n\u001b[33mAssistant\u001b[0m (to User):\n\n\u001b[32m***** Suggested tool call (call_IWo1zRJB57UdrYzXAvoXoeFR): calculator *****\u001b[0m\nArguments: \n{\"input\": {\"a\": 1300, \"b\": 3, \"operator\": \"/\"}}\n\u001b[32m***************************************************************************\u001b[0m\n\u001b[32m***** Suggested tool call (call_eM5QMbGmmR7aCVz70ljQguE7): calculator *****\u001b[0m\nArguments: \n{\"input\": {\"a\": 55, \"b\": 5, \"operator\": \"*\"}}\n\u001b[32m***************************************************************************\u001b[0m\n\n--------------------------------------------------------------------------------\n\u001b[35m\n>>>>>>>> EXECUTING FUNCTION calculator...\u001b[0m\n\u001b[35m\n>>>>>>>> EXECUTING FUNCTION calculator...\u001b[0m\n\u001b[33mUser\u001b[0m (to Assistant):\n\n\u001b[33mUser\u001b[0m (to Assistant):\n\n\u001b[32m***** Response from calling tool (call_IWo1zRJB57UdrYzXAvoXoeFR) *****\u001b[0m\n433\n\u001b[32m**********************************************************************\u001b[0m\n\n--------------------------------------------------------------------------------\n\u001b[33mUser\u001b[0m (to Assistant):\n\n\u001b[32m***** Response from calling tool (call_eM5QMbGmmR7aCVz70ljQguE7) *****\u001b[0m\n275\n\u001b[32m**********************************************************************\u001b[0m\n\n--------------------------------------------------------------------------------\n\u001b[31m\n>>>>>>>> USING AUTO REPLY...\u001b[0m\n\u001b[33mAssistant\u001b[0m (to User):\n\n\u001b[32m***** Suggested tool call (call_xzbM2tFWLZqWlAmewgbKsUxU): calculator *****\u001b[0m\nArguments: \n{\"input\":{\"a\":433,\"b\":275,\"operator\":\"+\"}}\n\u001b[32m***************************************************************************\u001b[0m\n\n--------------------------------------------------------------------------------\n\u001b[35m\n>>>>>>>> EXECUTING FUNCTION calculator...\u001b[0m\n\u001b[33mUser\u001b[0m (to Assistant):\n\n\u001b[33mUser\u001b[0m (to Assistant):\n\n\u001b[32m***** Response from calling tool (call_xzbM2tFWLZqWlAmewgbKsUxU) *****\u001b[0m\n708\n\u001b[32m**********************************************************************\u001b[0m\n\n--------------------------------------------------------------------------------\n\u001b[31m\n>>>>>>>> USING AUTO REPLY...\u001b[0m\n\u001b[33mAssistant\u001b[0m (to User):\n\nThe result of the expression \\((1423 - 123) / 3 + (32 + 23) * 5\\) is 708.\n\nTERMINATE\n\n--------------------------------------------------------------------------------\n"
        }
      ],
      "execution_count": 18,
      "metadata": {
        "ExecuteTime": {
          "end_time": "2024-04-25T01:50:17.808416Z",
          "start_time": "2024-04-25T01:49:57.975143Z"
        },
        "gather": {
          "logged": 1730871805413
        }
      }
    },
    {
      "cell_type": "markdown",
      "source": [
        "Let's verify the answer:"
      ],
      "metadata": {}
    },
    {
      "cell_type": "code",
      "source": [
        "int((1423 - 123) / 3) + (32 + 23) * 5"
      ],
      "outputs": [
        {
          "output_type": "execute_result",
          "execution_count": 19,
          "data": {
            "text/plain": "708"
          },
          "metadata": {}
        }
      ],
      "execution_count": 19,
      "metadata": {
        "ExecuteTime": {
          "end_time": "2024-04-25T01:50:17.818095Z",
          "start_time": "2024-04-25T01:50:17.808502Z"
        },
        "gather": {
          "logged": 1730871810865
        }
      }
    },
    {
      "cell_type": "markdown",
      "source": [
        "Again, the answer is correct. You can see that the assistant is able to understand\n",
        "the new tool schema and perform calculation correctly."
      ],
      "metadata": {}
    },
    {
      "cell_type": "markdown",
      "source": [
        "## How to hide tool usage and code execution within a single agent?\n",
        "\n",
        "Sometimes it is preferable to hide the tool usage inside a single agent, \n",
        "i.e., the tool call and tool response messages are kept invisible from outside\n",
        "of the agent, and the agent responds to outside messages with tool usages\n",
        "as \"internal monologues\". \n",
        "For example, you might want build an agent that is similar to\n",
        "the [OpenAI's Assistant](https://platform.openai.com/docs/assistants/how-it-works)\n",
        "which executes built-in tools internally.\n",
        "\n",
        "To achieve this, you can use [nested chats](/docs/tutorial/conversation-patterns#nested-chats).\n",
        "Nested chats allow you to create \"internal monologues\" within an agent\n",
        "to call and execute tools. This works for code execution as well.\n",
        "See [nested chats for tool use](/docs/notebooks/agentchat_nested_chats_chess) for an example."
      ],
      "metadata": {}
    },
    {
      "cell_type": "markdown",
      "source": [
        "## Summary\n",
        "\n",
        "In this chapter, we showed you how to create, register and use tools.\n",
        "Tools allows agents to perform actions without writing arbitrary code.\n",
        "In the next chapter, we will introduce conversation patterns, and show\n",
        "how to use the result of a conversation."
      ],
      "metadata": {}
    }
  ],
  "metadata": {
    "kernelspec": {
      "name": "python310-sdkv2",
      "language": "python",
      "display_name": "Python 3.10 - SDK v2"
    },
    "language_info": {
      "name": "python",
      "version": "3.10.14",
      "mimetype": "text/x-python",
      "codemirror_mode": {
        "name": "ipython",
        "version": 3
      },
      "pygments_lexer": "ipython3",
      "nbconvert_exporter": "python",
      "file_extension": ".py"
    },
    "microsoft": {
      "ms_spell_check": {
        "ms_spell_check_language": "en"
      },
      "host": {
        "AzureML": {
          "notebookHasBeenCompleted": true
        }
      }
    },
    "kernel_info": {
      "name": "python310-sdkv2"
    },
    "nteract": {
      "version": "nteract-front-end@1.0.0"
    }
  },
  "nbformat": 4,
  "nbformat_minor": 2
}
