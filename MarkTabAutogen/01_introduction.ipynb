{
  "cells": [
    {
      "cell_type": "markdown",
      "source": [
        "# Introduction to AutoGen\n",
        "\n",
        "Welcome! AutoGen is an open-source framework that leverages multiple _agents_ to enable complex workflows. This tutorial introduces basic concepts and building blocks of AutoGen."
      ],
      "metadata": {}
    },
    {
      "cell_type": "markdown",
      "source": [
        "## Why AutoGen?\n\n> _The whole is greater than the sum of its parts._<br/>\n> -**Aristotle**\n\nWhile there are many definitions of agents, in AutoGen, an agent is an entity that can send messages, receive messages and generate a reply using models, tools, human inputs or a mixture of them.\nThis abstraction not only allows agents to model real-world and abstract entities, such as people and algorithms, but it also simplifies implementation of complex workflows as collaboration among agents.\n\nFurther, AutoGen is extensible and composable: you can extend a simple agent with customizable components and create workflows that can combine these agents and power a more sophisticated agent, resulting in implementations that are modular and easy to maintain.\n\nMost importantly, AutoGen is developed by a vibrant community of researchers\nand engineers. It incorporates the latest research in multi-agent systems\nand has been used in many real-world applications, including agent platform,\nadvertising, AI employees, blog/article writing, blockchain, calculate burned areas by wildfires,\ncustomer support, cybersecurity, data analytics, debate, education, finance, gaming, legal consultation,\nresearch, robotics, sales/marketing, social simulation, software engineering,\nsoftware security, supply chain, t-shirt design, training data generation, Youtube service..."
      ],
      "metadata": {}
    },
    {
      "cell_type": "markdown",
      "source": [
        "## Installation\n",
        "\n",
        "The simplest way to install AutoGen is from pip: `pip install autogen-agentchat~=0.2`. Find more options in [Installation](/docs/installation/)."
      ],
      "metadata": {}
    },
    {
      "cell_type": "markdown",
      "source": [
        "## Agents\n",
        "\n",
        "In AutoGen, an agent is an entity that can send and receive messages to and from\n",
        "other agents in its environment. An agent can be powered by models (such as a large language model\n",
        "like GPT-4), code executors (such as an IPython kernel), human, or a combination of these\n",
        "and other pluggable and customizable components.\n",
        "\n",
        "![ConversableAgent](./assets/conversable-agent.jpg)\n",
        "\n",
        "An example of such agents is the built-in `ConversableAgent` which supports the following components:\n",
        "\n",
        "1. A list of LLMs\n",
        "2. A code executor\n",
        "3. A function and tool executor\n",
        "4. A component for keeping human-in-the-loop\n",
        "\n",
        "You can switch each component on or off and customize it to suit the need of \n",
        "your application. For advanced users, you can add additional components to the agent\n",
        "by using [`registered_reply`](../reference/agentchat/conversable_agent/#register_reply). "
      ],
      "metadata": {}
    },
    {
      "cell_type": "markdown",
      "source": [
        "LLMs, for example, enable agents to converse in natural languages and transform between structured and unstructured text. \n",
        "The following example shows a `ConversableAgent` with a GPT-4 LLM switched on and other\n",
        "components switched off:"
      ],
      "metadata": {}
    },
    {
      "cell_type": "code",
      "source": [
        "import os\n",
        "\n",
        "from autogen import ConversableAgent\n",
        "from dotenv import load_dotenv\n",
        "load_dotenv('credentials.env') \n",
        "\n",
        "config_list = [\n",
        "    {\n",
        "        \"model\":  os.environ['AZURE_OPENAI_LLM_DEPLOYMENT'],\n",
        "        \"api_key\": os.environ['AZURE_OPENAI_API_KEY'],\n",
        "        \"azure_endpoint\": os.environ['AZURE_OPENAI_ENDPOINT'],\n",
        "        \"api_type\": \"azure\",\n",
        "        \"api_version\": \"2024-02-15-preview\"\n",
        "    }\n",
        "]"
      ],
      "outputs": [],
      "execution_count": 1,
      "metadata": {
        "jupyter": {
          "source_hidden": false,
          "outputs_hidden": false
        },
        "nteract": {
          "transient": {
            "deleting": false
          }
        },
        "gather": {
          "logged": 1730904954219
        }
      }
    },
    {
      "cell_type": "code",
      "source": [
        "agent = ConversableAgent(\n",
        "    \"chatbot\",\n",
        "    llm_config={\n",
        "        \"cache_seed\": None,\n",
        "        \"config_list\": config_list\n",
        "    },\n",
        "    code_execution_config=False,  # Turn off code execution, by default it is off.\n",
        "    function_map=None,  # No registered functions, by default it is None.\n",
        "    human_input_mode=\"NEVER\",  # Never ask for human input.\n",
        ")"
      ],
      "outputs": [],
      "execution_count": 2,
      "metadata": {
        "gather": {
          "logged": 1730904975122
        }
      }
    },
    {
      "cell_type": "markdown",
      "source": [
        "The `llm_config` argument contains a list of configurations for the LLMs.\n",
        "See [LLM Configuration](/docs/topics/llm_configuration) for more details."
      ],
      "metadata": {}
    },
    {
      "cell_type": "markdown",
      "source": [
        "You can ask this agent to generate a response to a question using the `generate_reply` method:"
      ],
      "metadata": {}
    },
    {
      "cell_type": "code",
      "source": [
        "reply = agent.generate_reply(messages=[{\"content\": \"Tell me a joke.\", \"role\": \"user\"}])\n",
        "print(reply)"
      ],
      "outputs": [
        {
          "output_type": "stream",
          "name": "stdout",
          "text": "Sure, here you go:\n\nWhy don't scientists trust atoms?\n\nBecause they make up everything!\n"
        }
      ],
      "execution_count": 3,
      "metadata": {
        "gather": {
          "logged": 1730904980718
        }
      }
    },
    {
      "cell_type": "markdown",
      "source": [
        "## Roles and Conversations\n",
        "\n",
        "In AutoGen, you can assign roles to agents and have them participate in conversations or chat with each other. A conversation is a sequence of messages exchanged between agents. You can then use these conversations to make progress on a task. For example, in the example below, we assign different roles to two agents by setting their\n",
        "`system_message`."
      ],
      "metadata": {}
    },
    {
      "cell_type": "code",
      "source": [
        "cathy = ConversableAgent(\n",
        "    \"cathy\",\n",
        "    system_message=\"Your name is Cathy and you are a part of a duo of comedians.\",\n",
        "    llm_config={\n",
        "        \"cache_seed\": None,\n",
        "        \"config_list\": config_list,\n",
        "        \"temperature\": 0.9\n",
        "    },\n",
        "    human_input_mode=\"NEVER\",  # Never ask for human input.\n",
        ")\n",
        "\n",
        "joe = ConversableAgent(\n",
        "    \"joe\",\n",
        "    system_message=\"Your name is Joe and you are a part of a duo of comedians.\",\n",
        "    llm_config={\n",
        "        \"cache_seed\": None,\n",
        "        \"config_list\": config_list,\n",
        "        \"temperature\": 0.7\n",
        "    },\n",
        "    human_input_mode=\"NEVER\",  # Never ask for human input.\n",
        ")"
      ],
      "outputs": [],
      "execution_count": 4,
      "metadata": {
        "gather": {
          "logged": 1730904980801
        }
      }
    },
    {
      "cell_type": "markdown",
      "source": [
        "Now that we have two comedian agents, we can ask them to start a comedy show.\n",
        "This can be done using the `initiate_chat` method.\n",
        "We set the `max_turns` to 2 to keep the conversation short."
      ],
      "metadata": {}
    },
    {
      "cell_type": "code",
      "source": [
        "result = joe.initiate_chat(cathy, message=\"Cathy, tell me a joke.\", max_turns=2)"
      ],
      "outputs": [
        {
          "output_type": "stream",
          "name": "stdout",
          "text": "\u001b[33mjoe\u001b[0m (to cathy):\n\nCathy, tell me a joke.\n\n--------------------------------------------------------------------------------\n\u001b[33mcathy\u001b[0m (to joe):\n\nAlright, Joe! Here’s one for you:\n\nWhy don't skeletons fight each other?\n\nThey don't have the guts!\n\n--------------------------------------------------------------------------------\n\u001b[33mjoe\u001b[0m (to cathy):\n\nGood one, Cathy! Here's one back at you:\n\nWhy did the scarecrow win an award?\n\nBecause he was outstanding in his field!\n\n--------------------------------------------------------------------------------\n\u001b[33mcathy\u001b[0m (to joe):\n\ncathy: That’s a classic, Joe! Love it. Here's another:\n\nWhy don’t scientists trust atoms?\n\nBecause they make up everything!\n\n--------------------------------------------------------------------------------\n"
        }
      ],
      "execution_count": 5,
      "metadata": {
        "gather": {
          "logged": 1730904987067
        }
      }
    },
    {
      "cell_type": "markdown",
      "source": [
        "The comedians are bouncing off each other!"
      ],
      "metadata": {}
    },
    {
      "cell_type": "markdown",
      "source": [
        "## Summary\n",
        "\n",
        "In this chapter, we introduced the concept of agents, roles and conversations in AutoGen.\n",
        "For simplicity, we only used LLMs and created fully autonomous agents (`human_input_mode` was set to `NEVER`). \n",
        "In the next chapter, \n",
        "we will show how you can control when to _terminate_ a conversation between autonomous agents."
      ],
      "metadata": {}
    }
  ],
  "metadata": {
    "kernel_info": {
      "name": "python310-sdkv2"
    },
    "kernelspec": {
      "name": "python310-sdkv2",
      "language": "python",
      "display_name": "Python 3.10 - SDK v2"
    },
    "language_info": {
      "name": "python",
      "version": "3.10.14",
      "mimetype": "text/x-python",
      "codemirror_mode": {
        "name": "ipython",
        "version": 3
      },
      "pygments_lexer": "ipython3",
      "nbconvert_exporter": "python",
      "file_extension": ".py"
    },
    "microsoft": {
      "ms_spell_check": {
        "ms_spell_check_language": "en"
      },
      "host": {
        "AzureML": {
          "notebookHasBeenCompleted": true
        }
      }
    },
    "nteract": {
      "version": "nteract-front-end@1.0.0"
    }
  },
  "nbformat": 4,
  "nbformat_minor": 4
}
