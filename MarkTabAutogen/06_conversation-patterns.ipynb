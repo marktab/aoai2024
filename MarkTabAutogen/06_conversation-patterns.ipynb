{
  "cells": [
    {
      "cell_type": "markdown",
      "source": [
        "# Conversation Patterns\n\nIn the previous chapter we used two-agent conversation, which\ncan be started by the `initiate_chat` method.\nTwo-agent chat is a useful conversation pattern but AutoGen offers more.\nIn this chapter, we will first dig a little bit more into the two-agent \nchat pattern and chat result, \nthen we will show you several conversation patterns that involve \nmore than two agents.\n\n### An Overview\n\n1. **Two-agent chat**: the simplest form of conversation pattern where two agents chat with each other.\n2. **Sequential chat**: a sequence of chats between two agents, chained together by a carryover mechanism, which brings the summary of the previous chat to the context of the next chat.\n3. **Group Chat**: a single chat involving more than two agents. An important question in group chat is: What agent should be next to speak? To support different scenarios, we provide different ways to organize agents in a group chat:\n    - We support several strategies to select the next agent: `round_robin`, `random`, `manual` (human selection), and `auto` (Default, using an LLM to decide).\n    - We provide a way to constrain the selection of the next speaker (See examples below).\n    - We allow you to pass in a function to customize the selection of the next speaker. With this feature, you can build a **StateFlow** model which allows a deterministic workflow among your agents.\n Please refer to this [guide](/docs/topics/groupchat/customized_speaker_selection) and this [blog post](/blog/2024/02/29/StateFlow) on StateFlow for more details.\n4. **Nested Chat**: package a workflow into a single agent for reuse in a larger workflow."
      ],
      "metadata": {}
    },
    {
      "cell_type": "markdown",
      "source": [
        "## Two-Agent Chat and Chat Result\n\nTwo-agent chat is the simplest form of conversation pattern. \nWe start a two-agent chat using the `initiate_chat` method of every \n`ConversableAgent` agent.\nWe have already\nseen multiple examples of two-agent chats in previous chapters\nbut we haven't covered the details.\n\nThe following figure illustrates how two-agent chat works.\n\n\n![Two-agent chat](./assets/two-agent-chat.png)\n\nA two-agent chats takes two inputs: a message, which is a string provided by\nthe caller; a context, which specifies various parameters of the chat.\nThe sender agent uses its chat initializer method\n(i.e., `generate_init_message` method of `ConversableAgent`)\nto generate an initial message from the inputs, and\nsends it to the recipient agent to start the chat.\nThe sender agent is the agent whose `initiate_chat` method is called, and\nthe recipient agent is the other agent.\n\nOnce the chat terminates, the history of the chat is processed by a \nchat summarizer. The summarizer summarizes the chat history and calculates\nthe token usage of the chat. \nYou can configure the type of summary using the `summary_method`\nparameter of the `initiate_chat` method. By default, it is the last\nmessage of the chat (i.e., `summary_method='last_msg'`).\n\nThe example below is a two-agent chat between a student agent and a teacher\nagent. Its summarizer uses an LLM-based summary."
      ],
      "metadata": {}
    },
    {
      "cell_type": "code",
      "source": [
        "import os\n",
        "\n",
        "from autogen import ConversableAgent\n",
        "from dotenv import load_dotenv\n",
        "load_dotenv('credentials.env') \n",
        "\n",
        "config_list = [\n",
        "    {\n",
        "        \"model\":  os.environ['AZURE_OPENAI_LLM_DEPLOYMENT'],\n",
        "        \"api_key\": os.environ['AZURE_OPENAI_API_KEY'],\n",
        "        \"azure_endpoint\": os.environ['AZURE_OPENAI_ENDPOINT'],\n",
        "        \"api_type\": \"azure\",\n",
        "        \"api_version\": \"2024-02-15-preview\"\n",
        "    }\n",
        "]"
      ],
      "outputs": [],
      "execution_count": 1,
      "metadata": {
        "jupyter": {
          "source_hidden": false,
          "outputs_hidden": false
        },
        "nteract": {
          "transient": {
            "deleting": false
          }
        },
        "gather": {
          "logged": 1730872296526
        }
      }
    },
    {
      "cell_type": "code",
      "source": [
        "student_agent = ConversableAgent(\n",
        "    name=\"Student_Agent\",\n",
        "    system_message=\"You are a student willing to learn.\",\n",
        "    llm_config={\n",
        "        \"cache_seed\": None,\n",
        "        \"config_list\": config_list\n",
        "    },\n",
        ")\n",
        "teacher_agent = ConversableAgent(\n",
        "    name=\"Teacher_Agent\",\n",
        "    llm_config={\n",
        "        \"cache_seed\": None,\n",
        "        \"config_list\": config_list\n",
        "    },\n",
        ")\n",
        "\n",
        "chat_result = student_agent.initiate_chat(\n",
        "    teacher_agent,\n",
        "    message=\"What is triangle inequality?\",\n",
        "    summary_method=\"reflection_with_llm\",\n",
        "    max_turns=2,\n",
        ")"
      ],
      "outputs": [
        {
          "output_type": "stream",
          "name": "stdout",
          "text": "\u001b[33mStudent_Agent\u001b[0m (to Teacher_Agent):\n\nWhat is triangle inequality?\n\n--------------------------------------------------------------------------------\n\u001b[31m\n>>>>>>>> USING AUTO REPLY...\u001b[0m\n\u001b[33mTeacher_Agent\u001b[0m (to Student_Agent):\n\nThe triangle inequality is a fundamental concept in geometry and mathematics that involves the lengths of the sides of a triangle. It states that for any triangle, the sum of the lengths of any two sides must be greater than or equal to the length of the remaining side. In mathematical terms, if a triangle has sides of lengths \\(a\\), \\(b\\), and \\(c\\), then the triangle inequality can be expressed as:\n\n1. \\(a + b \\geq c\\)\n2. \\(a + c \\geq b\\)\n3. \\(b + c \\geq a\\)\n\nThese inequalities must hold true for a set of three lengths to form a valid triangle. If any of these inequalities are violated, the given lengths cannot form a triangle.\n\nThe triangle inequality also applies in more general settings, such as in vector spaces and metric spaces, where it helps define notions of distance and is used in proving various mathematical theorems.\n\n--------------------------------------------------------------------------------\n\u001b[31m\n>>>>>>>> USING AUTO REPLY...\u001b[0m\n\u001b[33mStudent_Agent\u001b[0m (to Teacher_Agent):\n\nI think I understood that! So, for any three sides to form a triangle, the sum of any two sides must always be greater than or equal to the third side. Could you give me an example to illustrate this concept?\n\n--------------------------------------------------------------------------------\n\u001b[31m\n>>>>>>>> USING AUTO REPLY...\u001b[0m\n\u001b[33mTeacher_Agent\u001b[0m (to Student_Agent):\n\nTeacher_Agent\nOf course! Let's consider three sides with lengths \\(a\\), \\(b\\), and \\(c\\). We'll put some actual numbers to these lengths for clarity.\n\nExample 1: Valid Triangle\n\nSuppose the sides of the triangle have lengths \\(a = 3\\), \\(b = 4\\), and \\(c = 5\\). Let's check if these sides satisfy the triangle inequality:\n\n1. \\(a + b = 3 + 4 = 7 \\geq 5 = c\\). This is true.\n2. \\(a + c = 3 + 5 = 8 \\geq 4 = b\\). This is true.\n3. \\(b + c = 4 + 5 = 9 \\geq 3 = a\\). This is true.\n\nSince all three inequalities are satisfied, the sides \\(3\\), \\(4\\), and \\(5\\) can form a valid triangle.\n\nExample 2: Invalid Triangle\n\nNow, suppose we have sides with lengths \\(a = 2\\), \\(b = 3\\), and \\(c = 6\\). Let's check if these sides satisfy the triangle inequality:\n\n1. \\(a + b = 2 + 3 = 5 \\geq 6 = c\\). This is false.\n2. \\(a + c = 2 + 6 = 8 \\geq 3 = b\\). This is true.\n3. \\(b + c = 3 + 6 = 9 \\geq 2 = a\\). This is true.\n\nThe first inequality \\(2 + 3 \\geq 6\\) is not satisfied. Therefore, the sides \\(2\\), \\(3\\), and \\(6\\) cannot form a valid triangle.\n\nIn summary, for any set of three lengths to form a triangle, they must satisfy all three conditions of the triangle inequality.\n\n--------------------------------------------------------------------------------\n"
        }
      ],
      "execution_count": 2,
      "metadata": {
        "gather": {
          "logged": 1730872309557
        }
      }
    },
    {
      "cell_type": "markdown",
      "source": [
        "Let's see what the summary looks like.\n",
        "The summary is stored in the `chat_result` object of the type `ChatResult` \n",
        "that was returned by the `initiate_chat` method."
      ],
      "metadata": {}
    },
    {
      "cell_type": "code",
      "source": [
        "print(chat_result.summary)"
      ],
      "outputs": [
        {
          "output_type": "stream",
          "name": "stdout",
          "text": "For any three lengths to form a valid triangle, the sum of any two sides must be greater than or equal to the third side. This is checked using the following inequalities: \\(a + b \\geq c\\), \\(a + c \\geq b\\), and \\(b + c \\geq a\\). An example with sides \\(3\\), \\(4\\), and \\(5\\) forms a valid triangle, while sides \\(2\\), \\(3\\), and \\(6\\) do not.\n"
        }
      ],
      "execution_count": 3,
      "metadata": {
        "gather": {
          "logged": 1730872309724
        }
      }
    },
    {
      "cell_type": "markdown",
      "source": [
        "In the above example, the summary method is set to `reflection_with_llm` which\n",
        "takes a list of messages from the conversation and summarize them \n",
        "using a call to an LLM.\n",
        "The summary method first tries to use the recipient's LLM, if it is not available\n",
        "then it uses the sender's LLM. In this case the recipient is \"Teacher_Agent\" and\n",
        "the sender is \"Student_Agent\".\n",
        "The input prompt for the LLM is the following default prompt:"
      ],
      "metadata": {}
    },
    {
      "cell_type": "code",
      "source": [
        "print(ConversableAgent.DEFAULT_SUMMARY_PROMPT)"
      ],
      "outputs": [
        {
          "output_type": "stream",
          "name": "stdout",
          "text": "Summarize the takeaway from the conversation. Do not add any introductory phrases.\n"
        }
      ],
      "execution_count": 4,
      "metadata": {
        "gather": {
          "logged": 1730872309900
        }
      }
    },
    {
      "cell_type": "markdown",
      "source": [
        "You can also use a custom prompt by setting the `summary_prompt` argument\n",
        "of `initiate_chat`.\n",
        "\n",
        "There are some other useful information in the `ChatResult` object, including\n",
        "the conversation history, human input, and token cost."
      ],
      "metadata": {}
    },
    {
      "cell_type": "code",
      "source": [
        "# Get the chat history.\n",
        "import pprint\n",
        "\n",
        "pprint.pprint(chat_result.chat_history)"
      ],
      "outputs": [
        {
          "output_type": "stream",
          "name": "stdout",
          "text": "[{'content': 'What is triangle inequality?',\n  'name': 'Student_Agent',\n  'role': 'assistant'},\n {'content': 'The triangle inequality is a fundamental concept in geometry and '\n             'mathematics that involves the lengths of the sides of a '\n             'triangle. It states that for any triangle, the sum of the '\n             'lengths of any two sides must be greater than or equal to the '\n             'length of the remaining side. In mathematical terms, if a '\n             'triangle has sides of lengths \\\\(a\\\\), \\\\(b\\\\), and \\\\(c\\\\), '\n             'then the triangle inequality can be expressed as:\\n'\n             '\\n'\n             '1. \\\\(a + b \\\\geq c\\\\)\\n'\n             '2. \\\\(a + c \\\\geq b\\\\)\\n'\n             '3. \\\\(b + c \\\\geq a\\\\)\\n'\n             '\\n'\n             'These inequalities must hold true for a set of three lengths to '\n             'form a valid triangle. If any of these inequalities are '\n             'violated, the given lengths cannot form a triangle.\\n'\n             '\\n'\n             'The triangle inequality also applies in more general settings, '\n             'such as in vector spaces and metric spaces, where it helps '\n             'define notions of distance and is used in proving various '\n             'mathematical theorems.',\n  'name': 'Teacher_Agent',\n  'role': 'user'},\n {'content': 'I think I understood that! So, for any three sides to form a '\n             'triangle, the sum of any two sides must always be greater than '\n             'or equal to the third side. Could you give me an example to '\n             'illustrate this concept?',\n  'name': 'Student_Agent',\n  'role': 'assistant'},\n {'content': 'Teacher_Agent\\n'\n             \"Of course! Let's consider three sides with lengths \\\\(a\\\\), \"\n             \"\\\\(b\\\\), and \\\\(c\\\\). We'll put some actual numbers to these \"\n             'lengths for clarity.\\n'\n             '\\n'\n             'Example 1: Valid Triangle\\n'\n             '\\n'\n             'Suppose the sides of the triangle have lengths \\\\(a = 3\\\\), \\\\(b '\n             \"= 4\\\\), and \\\\(c = 5\\\\). Let's check if these sides satisfy the \"\n             'triangle inequality:\\n'\n             '\\n'\n             '1. \\\\(a + b = 3 + 4 = 7 \\\\geq 5 = c\\\\). This is true.\\n'\n             '2. \\\\(a + c = 3 + 5 = 8 \\\\geq 4 = b\\\\). This is true.\\n'\n             '3. \\\\(b + c = 4 + 5 = 9 \\\\geq 3 = a\\\\). This is true.\\n'\n             '\\n'\n             'Since all three inequalities are satisfied, the sides \\\\(3\\\\), '\n             '\\\\(4\\\\), and \\\\(5\\\\) can form a valid triangle.\\n'\n             '\\n'\n             'Example 2: Invalid Triangle\\n'\n             '\\n'\n             'Now, suppose we have sides with lengths \\\\(a = 2\\\\), \\\\(b = '\n             \"3\\\\), and \\\\(c = 6\\\\). Let's check if these sides satisfy the \"\n             'triangle inequality:\\n'\n             '\\n'\n             '1. \\\\(a + b = 2 + 3 = 5 \\\\geq 6 = c\\\\). This is false.\\n'\n             '2. \\\\(a + c = 2 + 6 = 8 \\\\geq 3 = b\\\\). This is true.\\n'\n             '3. \\\\(b + c = 3 + 6 = 9 \\\\geq 2 = a\\\\). This is true.\\n'\n             '\\n'\n             'The first inequality \\\\(2 + 3 \\\\geq 6\\\\) is not satisfied. '\n             'Therefore, the sides \\\\(2\\\\), \\\\(3\\\\), and \\\\(6\\\\) cannot form a '\n             'valid triangle.\\n'\n             '\\n'\n             'In summary, for any set of three lengths to form a triangle, '\n             'they must satisfy all three conditions of the triangle '\n             'inequality.',\n  'name': 'Teacher_Agent',\n  'role': 'user'}]\n"
        }
      ],
      "execution_count": 5,
      "metadata": {
        "gather": {
          "logged": 1730872310054
        }
      }
    },
    {
      "cell_type": "markdown",
      "source": [
        "That chat messages in the chat result are from the \n",
        "recipient agent's perspective -- the sender is the \"assistant\" and the recipient\n",
        "is the \"user\"."
      ],
      "metadata": {}
    },
    {
      "cell_type": "code",
      "source": [
        "# Get the cost of the chat.\n",
        "pprint.pprint(chat_result.cost)"
      ],
      "outputs": [
        {
          "output_type": "stream",
          "name": "stdout",
          "text": "{'usage_excluding_cached_inference': {'gpt-4o-2024-05-13': {'completion_tokens': 738,\n                                                            'cost': 0.0172,\n                                                            'prompt_tokens': 1226,\n                                                            'total_tokens': 1964},\n                                      'total_cost': 0.0172},\n 'usage_including_cached_inference': {'gpt-4o-2024-05-13': {'completion_tokens': 738,\n                                                            'cost': 0.0172,\n                                                            'prompt_tokens': 1226,\n                                                            'total_tokens': 1964},\n                                      'total_cost': 0.0172}}\n"
        }
      ],
      "execution_count": 6,
      "metadata": {
        "gather": {
          "logged": 1730872310192
        }
      }
    },
    {
      "cell_type": "markdown",
      "source": [
        "## Sequential Chats\n",
        "\n",
        "The name of this pattern is self-explanatory -- it is a sequence of\n",
        "chats between two agents, chained together by a mechanism called *carryover*,\n",
        "which brings the summary of the previous chat to the context\n",
        "of the next chat.\n",
        "\n",
        "This pattern is useful for complex task that can be broken down into \n",
        "interdependent sub-tasks. \n",
        "The figure below illustrate how this pattern works.\n",
        "\n",
        "![initiate_chats](./assets/sequential-two-agent-chat.png)\n",
        "\n",
        "In this pattern, the a pair of agents first start a two-agent chat,\n",
        "then the summary of the conversation becomes a *carryover* for the next\n",
        "two-agent chat. The next chat passes the carryover to the `carryover` parameter\n",
        "of the context to generate its initial message.\n",
        "\n",
        "Carryover accumulates as the conversation moves forward,\n",
        "so each subsequent chat starts with all the carryovers \n",
        "from previous chats.\n",
        "\n",
        "The figure above shows distinct recipient agents for all the chats, however,\n",
        "the recipient agents in the sequence are allowed to repeat."
      ],
      "metadata": {}
    },
    {
      "cell_type": "markdown",
      "source": [
        "To illustrate this pattern, let's consider a simple example of arithmetic\n",
        "operator agents. One agent \n",
        "(called the \"Number_Agent\") is responsible for coming up with a number,\n",
        "and other agents are responsible for performing a specific arithmetic\n",
        "operation on the number, e.g., add 1, multiply by 2, etc.."
      ],
      "metadata": {}
    },
    {
      "cell_type": "code",
      "source": [
        "# The Number Agent always returns the same numbers.\n",
        "number_agent = ConversableAgent(\n",
        "    name=\"Number_Agent\",\n",
        "    system_message=\"You return me the numbers I give you, one number each line.\",\n",
        "    llm_config={\n",
        "        \"cache_seed\": None,\n",
        "        \"config_list\": config_list\n",
        "    },\n",
        "    human_input_mode=\"NEVER\",\n",
        ")\n",
        "\n",
        "# The Adder Agent adds 1 to each number it receives.\n",
        "adder_agent = ConversableAgent(\n",
        "    name=\"Adder_Agent\",\n",
        "    system_message=\"You add 1 to each number I give you and return me the new numbers, one number each line.\",\n",
        "    llm_config={\n",
        "        \"cache_seed\": None,\n",
        "        \"config_list\": config_list\n",
        "    },\n",
        "    human_input_mode=\"NEVER\",\n",
        ")\n",
        "\n",
        "# The Multiplier Agent multiplies each number it receives by 2.\n",
        "multiplier_agent = ConversableAgent(\n",
        "    name=\"Multiplier_Agent\",\n",
        "    system_message=\"You multiply each number I give you by 2 and return me the new numbers, one number each line.\",\n",
        "    llm_config={\n",
        "        \"cache_seed\": None,\n",
        "        \"config_list\": config_list\n",
        "    },\n",
        "    human_input_mode=\"NEVER\",\n",
        ")\n",
        "\n",
        "# The Subtracter Agent subtracts 1 from each number it receives.\n",
        "subtracter_agent = ConversableAgent(\n",
        "    name=\"Subtracter_Agent\",\n",
        "    system_message=\"You subtract 1 from each number I give you and return me the new numbers, one number each line.\",\n",
        "    llm_config={\n",
        "        \"cache_seed\": None,\n",
        "        \"config_list\": config_list\n",
        "    },\n",
        "    human_input_mode=\"NEVER\",\n",
        ")\n",
        "\n",
        "# The Divider Agent divides each number it receives by 2.\n",
        "divider_agent = ConversableAgent(\n",
        "    name=\"Divider_Agent\",\n",
        "    system_message=\"You divide each number I give you by 2 and return me the new numbers, one number each line.\",\n",
        "    llm_config={\n",
        "        \"cache_seed\": None,\n",
        "        \"config_list\": config_list\n",
        "    },\n",
        "    human_input_mode=\"NEVER\",\n",
        ")"
      ],
      "outputs": [],
      "execution_count": 7,
      "metadata": {
        "gather": {
          "logged": 1730872310356
        }
      }
    },
    {
      "cell_type": "markdown",
      "source": [
        "The Number Agent chats with the first operator agent, then the second\n",
        "operator agent, and so on.\n",
        "After each chat, the last message in the conversation (i.e., the result of the arithmetic operation from the operator agent)\n",
        "is used as the summary of the chat.\n",
        "This is specified by the `summary_method` parameter.\n",
        "In the end we will have the result of the arithmetic operations."
      ],
      "metadata": {}
    },
    {
      "cell_type": "code",
      "source": [
        "# Start a sequence of two-agent chats.\n",
        "# Each element in the list is a dictionary that specifies the arguments\n",
        "# for the initiate_chat method.\n",
        "chat_results = number_agent.initiate_chats(\n",
        "    [\n",
        "        {\n",
        "            \"recipient\": adder_agent,\n",
        "            \"message\": \"14\",\n",
        "            \"max_turns\": 2,\n",
        "            \"summary_method\": \"last_msg\",\n",
        "        },\n",
        "        {\n",
        "            \"recipient\": multiplier_agent,\n",
        "            \"message\": \"These are my numbers\",\n",
        "            \"max_turns\": 2,\n",
        "            \"summary_method\": \"last_msg\",\n",
        "        },\n",
        "        {\n",
        "            \"recipient\": subtracter_agent,\n",
        "            \"message\": \"These are my numbers\",\n",
        "            \"max_turns\": 2,\n",
        "            \"summary_method\": \"last_msg\",\n",
        "        },\n",
        "        {\n",
        "            \"recipient\": divider_agent,\n",
        "            \"message\": \"These are my numbers\",\n",
        "            \"max_turns\": 2,\n",
        "            \"summary_method\": \"last_msg\",\n",
        "        },\n",
        "    ]\n",
        ")"
      ],
      "outputs": [
        {
          "output_type": "stream",
          "name": "stdout",
          "text": "\u001b[34m\n********************************************************************************\u001b[0m\n\u001b[34mStarting a new chat....\u001b[0m\n\u001b[34m\n********************************************************************************\u001b[0m\n\u001b[33mNumber_Agent\u001b[0m (to Adder_Agent):\n\n14\n\n--------------------------------------------------------------------------------\n\u001b[33mAdder_Agent\u001b[0m (to Number_Agent):\n\n15\n\n--------------------------------------------------------------------------------\n\u001b[33mNumber_Agent\u001b[0m (to Adder_Agent):\n\n15\n\n--------------------------------------------------------------------------------\n\u001b[33mAdder_Agent\u001b[0m (to Number_Agent):\n\n16\n\n--------------------------------------------------------------------------------\n\u001b[34m\n********************************************************************************\u001b[0m\n\u001b[34mStarting a new chat....\u001b[0m\n\u001b[34m\n********************************************************************************\u001b[0m\n\u001b[33mNumber_Agent\u001b[0m (to Multiplier_Agent):\n\nThese are my numbers\nContext: \n16\n\n--------------------------------------------------------------------------------\n\u001b[33mMultiplier_Agent\u001b[0m (to Number_Agent):\n\n32\n\n--------------------------------------------------------------------------------\n\u001b[33mNumber_Agent\u001b[0m (to Multiplier_Agent):\n\n64\n\n--------------------------------------------------------------------------------\n\u001b[33mMultiplier_Agent\u001b[0m (to Number_Agent):\n\n128\n\n--------------------------------------------------------------------------------\n\u001b[34m\n********************************************************************************\u001b[0m\n\u001b[34mStarting a new chat....\u001b[0m\n\u001b[34m\n********************************************************************************\u001b[0m\n\u001b[33mNumber_Agent\u001b[0m (to Subtracter_Agent):\n\nThese are my numbers\nContext: \n16\n128\n\n--------------------------------------------------------------------------------\n\u001b[33mSubtracter_Agent\u001b[0m (to Number_Agent):\n\n15\n127\n\n--------------------------------------------------------------------------------\n\u001b[33mNumber_Agent\u001b[0m (to Subtracter_Agent):\n\n15\n127\n\n--------------------------------------------------------------------------------\n\u001b[33mSubtracter_Agent\u001b[0m (to Number_Agent):\n\n14\n126\n\n--------------------------------------------------------------------------------\n\u001b[34m\n********************************************************************************\u001b[0m\n\u001b[34mStarting a new chat....\u001b[0m\n\u001b[34m\n********************************************************************************\u001b[0m\n\u001b[33mNumber_Agent\u001b[0m (to Divider_Agent):\n\nThese are my numbers\nContext: \n16\n128\n14\n126\n\n--------------------------------------------------------------------------------\n\u001b[33mDivider_Agent\u001b[0m (to Number_Agent):\n\n8\n64\n7\n63\n\n--------------------------------------------------------------------------------\n\u001b[33mNumber_Agent\u001b[0m (to Divider_Agent):\n\n8\n64\n7\n63\n\n--------------------------------------------------------------------------------\n\u001b[33mDivider_Agent\u001b[0m (to Number_Agent):\n\n4\n32\n3.5\n31.5\n\n--------------------------------------------------------------------------------\n"
        }
      ],
      "execution_count": 8,
      "metadata": {
        "gather": {
          "logged": 1730872365492
        }
      }
    },
    {
      "cell_type": "markdown",
      "source": [
        "First thing to note is that the `initiate_chats` method takes a list of\ndictionaries, each dictionary contains the arguments for the `initiate_chat`\nmethod.\n\nSecond, each chat in the sequence has a maximum round of 2, as specified with\nthe setting `max_turns=2`, \nwhich means each arithmetic operation is performed twice.\nSo you can see in the first chat the number 14 becomes 15 and then 16,\nin the second chat the number 16 becomes 32 and then 64, and so on.\n\nThird, the carryover accumulates as the chats go on. In the second chat,\nthe carryover is the summary of the first chat \"16\".\nIn the third chat, the carryover is the summary of the first and second\nchat, which is the list \"16\" and \"64\", and both numbers are operated upon.\nIn the forth and last chat, the carryover is the summary of all previous\nchats, which is the list \"16\", \"64\", \"14\" and \"62\", and all of these\nnumbers are operated upon.\n\nThe final note is that the `initiate_chats` method returns a list of\n`ChatResult` objects, one for each chat in the sequence."
      ],
      "metadata": {}
    },
    {
      "cell_type": "code",
      "source": [
        "print(\"First Chat Summary: \", chat_results[0].summary)\n",
        "print(\"Second Chat Summary: \", chat_results[1].summary)\n",
        "print(\"Third Chat Summary: \", chat_results[2].summary)\n",
        "print(\"Fourth Chat Summary: \", chat_results[3].summary)"
      ],
      "outputs": [
        {
          "output_type": "stream",
          "name": "stdout",
          "text": "First Chat Summary:  16\nSecond Chat Summary:  128\nThird Chat Summary:  14\n126\nFourth Chat Summary:  4\n32\n3.5\n31.5\n"
        }
      ],
      "execution_count": 9,
      "metadata": {
        "gather": {
          "logged": 1730872365736
        }
      }
    },
    {
      "cell_type": "markdown",
      "source": [
        "Besides calling `initiate_chats` from the same sender agent, you can also\n",
        "call a high-level function `autogen.agentchat.initiate_chats` to start\n",
        "a sequence of two-agent chats with different sender agents. \n",
        "This function allows you to specify the\n",
        "sender agent for each chat in the sequence."
      ],
      "metadata": {}
    },
    {
      "cell_type": "markdown",
      "source": [
        "## Group Chat\n\nSo far we have only seen conversation patterns that involve two agents or \na sequence of two-agent chats. AutoGen provides a more general conversation\npattern called group chat, which involves more than two agents.\nThe core idea of group chat is that all agents contribute to a single\nconversation thread and share the same context.\nThis is useful for tasks that require collaboration among multiple agents.\n\nThe figure below illustrates how group chat works.\n\n![group_chat](./assets/group-chat.png)\n\nA group chat is orchestrated by a special\nagent type `GroupChatManager`. In the first step of the group chat,\nthe Group Chat Manager selects an agent to speak. Then, the selected agent\nspeaks and the message is sent back to the Group Chat Manager,\nwho **broadcasts** the message to all other agents in the group.\nThis process repeats until the conversation stops.\n\nThe Group Chat Manager can use several strategies to select the next agent.\nCurrently, the following strategies are supported:\n\n1. `round_robin`: The Group Chat Manager selects agents in a round-robin\n   fashion based on the order of the agents provided.\n2. `random`: The Group Chat Manager selects agents randomly.\n3. `manual`: The Group Chat Manager selects agents by asking for human input.\n4. `auto`: The default strategy, which selects agents using the Group Chat\n   Manager's LLM."
      ],
      "metadata": {}
    },
    {
      "cell_type": "markdown",
      "source": [
        "To illustrate this pattern, let's consider a simple example of a group chat\n",
        "among the same arithmetic operator agents as in the previous example,\n",
        "with the objective of turning a number into a specific target number\n",
        "using a sequence of arithmetic operations powered by the agents.\n",
        "\n",
        "In this example, we use the `auto` strategy to select the next agent.\n",
        "To help the Group Chat Manager select the next agent, we also set the\n",
        "`description` of the agents. Without the `description`, the Group Chat Manager\n",
        "will use the agents' `system_message`, which may be not be the best choice."
      ],
      "metadata": {}
    },
    {
      "cell_type": "code",
      "source": [
        "# The `description` attribute is a string that describes the agent.\n",
        "# It can also be set in `ConversableAgent` constructor.\n",
        "adder_agent.description = \"Add 1 to each input number.\"\n",
        "multiplier_agent.description = \"Multiply each input number by 2.\"\n",
        "subtracter_agent.description = \"Subtract 1 from each input number.\"\n",
        "divider_agent.description = \"Divide each input number by 2.\"\n",
        "number_agent.description = \"Return the numbers given.\""
      ],
      "outputs": [],
      "execution_count": 10,
      "metadata": {
        "gather": {
          "logged": 1730872365938
        }
      }
    },
    {
      "cell_type": "markdown",
      "source": [
        "We first create a `GroupChat` object and provide the list of agents.\n",
        "If we were to use the `round_robin` strategy, this list would specify the order\n",
        "of the agents to be selected.\n",
        "We also initialize the group chat with an empty message list and a maximum\n",
        "round of 6, which means there will be at most 6 iterations of selecting a speaker,\n",
        "agent speaks and broadcasting message."
      ],
      "metadata": {}
    },
    {
      "cell_type": "code",
      "source": [
        "from autogen import GroupChat\n",
        "\n",
        "group_chat = GroupChat(\n",
        "    agents=[adder_agent, multiplier_agent, subtracter_agent, divider_agent, number_agent],\n",
        "    messages=[],\n",
        "    max_round=6,\n",
        ")"
      ],
      "outputs": [],
      "execution_count": 11,
      "metadata": {
        "gather": {
          "logged": 1730872366123
        }
      }
    },
    {
      "cell_type": "markdown",
      "source": [
        "Now we create a `GroupChatManager` object and provide the `GroupChat` object as\n",
        "input. We also need to specify the `llm_config` of the Group Chat Manager\n",
        "so it can use the LLM to select the next agent (the `auto` strategy)."
      ],
      "metadata": {}
    },
    {
      "cell_type": "code",
      "source": [
        "from autogen import GroupChatManager\n",
        "\n",
        "group_chat_manager = GroupChatManager(\n",
        "    groupchat=group_chat,\n",
        "    llm_config={\n",
        "        \"cache_seed\": None,\n",
        "        \"config_list\": config_list\n",
        "    },\n",
        ")"
      ],
      "outputs": [],
      "execution_count": 12,
      "metadata": {
        "gather": {
          "logged": 1730872366292
        }
      }
    },
    {
      "cell_type": "markdown",
      "source": [
        "Finally, we have the Number Agent from before to start a two-agent chat with\n",
        "the Group Chat Manager, which runs the group chat internally and terminates\n",
        "the two-agent chat when the internal group chat is done.\n",
        "Because the Number Agent is selected to speak by us, it counts as the \n",
        "first round of the group chat."
      ],
      "metadata": {}
    },
    {
      "cell_type": "code",
      "source": [
        "chat_result = number_agent.initiate_chat(\n",
        "    group_chat_manager,\n",
        "    message=\"My number is 3, I want to turn it into 13.\",\n",
        "    summary_method=\"reflection_with_llm\",\n",
        ")"
      ],
      "outputs": [
        {
          "output_type": "stream",
          "name": "stdout",
          "text": "\u001b[33mNumber_Agent\u001b[0m (to chat_manager):\n\nMy number is 3, I want to turn it into 13.\n\n--------------------------------------------------------------------------------\n\u001b[32m\nNext speaker: Adder_Agent\n\u001b[0m\n\u001b[33mAdder_Agent\u001b[0m (to chat_manager):\n\n4\n\n--------------------------------------------------------------------------------\n\u001b[32m\nNext speaker: Adder_Agent\n\u001b[0m\n\u001b[33mAdder_Agent\u001b[0m (to chat_manager):\n\nNo, I mean I want the result to be 13, not 4.\n\n--------------------------------------------------------------------------------\n\u001b[32m\nNext speaker: Multiplier_Agent\n\u001b[0m\n\u001b[33mMultiplier_Agent\u001b[0m (to chat_manager):\n\nIt sounds like there was a misunderstanding. I multiply each number you give me by 2 and return the new number. For example, if you give me 3:\n\n3 * 2 = 6\n\nIf you want a specific number like 13, you may need a different operation than multiplication.\n\n--------------------------------------------------------------------------------\n\u001b[32m\nNext speaker: Multiplier_Agent\n\u001b[0m\n\u001b[33mMultiplier_Agent\u001b[0m (to chat_manager):\n\nPlease provide another number for me to multiply by 2.\n\n--------------------------------------------------------------------------------\n\u001b[32m\nNext speaker: Multiplier_Agent\n\u001b[0m\n\u001b[33mMultiplier_Agent\u001b[0m (to chat_manager):\n\n3\n\n--------------------------------------------------------------------------------\n"
        }
      ],
      "execution_count": 13,
      "metadata": {
        "gather": {
          "logged": 1730872419495
        }
      }
    },
    {
      "cell_type": "markdown",
      "source": [
        "You can see that the Number Agent is selected to speak first, then the\n",
        "Group Chat Manager selects the Multiplier Agent to speak, then the Adder\n",
        "Agent, and so on. The number is operated upon by each agent in the group\n",
        "chat, and the final result is 13.\n",
        "\n",
        "We can take a look at the summary of the group chat, provided by the \n",
        "`ChatResult` object returned by the `initiate_chat` method."
      ],
      "metadata": {}
    },
    {
      "cell_type": "code",
      "source": [
        "print(chat_result.summary)"
      ],
      "outputs": [
        {
          "output_type": "stream",
          "name": "stdout",
          "text": "The user wants to turn the number 3 into 13. They initially interacted with an Adder Agent but received incorrect input. Then, they interacted with a Multiplier Agent, which multiplies each given number by 2 but doesn't achieve the desired result of 13.\n"
        }
      ],
      "execution_count": 14,
      "metadata": {
        "gather": {
          "logged": 1730872419749
        }
      }
    },
    {
      "cell_type": "markdown",
      "source": [
        "### Send Introductions\n",
        "\n",
        "In the previous example, we set the `description` of the agents to help the\n",
        "Group Chat Manager select the next agent. This only helps the Group Chat Manager,\n",
        "however, does not help the participating agents to know about each other.\n",
        "Sometimes it is useful have each agent introduce themselves to other\n",
        "agents in the group chat. This can be done by setting the `send_introductions=True`."
      ],
      "metadata": {}
    },
    {
      "cell_type": "code",
      "source": [
        "group_chat_with_introductions = GroupChat(\n",
        "    agents=[adder_agent, multiplier_agent, subtracter_agent, divider_agent, number_agent],\n",
        "    messages=[],\n",
        "    max_round=6,\n",
        "    send_introductions=True,\n",
        ")"
      ],
      "outputs": [],
      "execution_count": 15,
      "metadata": {
        "gather": {
          "logged": 1730872419910
        }
      }
    },
    {
      "cell_type": "markdown",
      "source": [
        "Under the hood, the Group Chat Manager sends a message containing the \n",
        "agents' names and descriptions to all agents in the group chat before the\n",
        "group chat starts."
      ],
      "metadata": {}
    },
    {
      "cell_type": "markdown",
      "source": [
        "### Group Chat in a Sequential Chat\n",
        "\n",
        "Group chat can also be used as a part of a sequential chat.\n",
        "In this case, the Group Chat Manager is treated as a regular agent\n",
        "in the sequence of two-agent chats."
      ],
      "metadata": {}
    },
    {
      "cell_type": "code",
      "source": [
        "# Let's use the group chat with introduction messages created above.\n",
        "group_chat_manager_with_intros = GroupChatManager(\n",
        "    groupchat=group_chat_with_introductions,\n",
        "    llm_config={\n",
        "        \"cache_seed\": None,\n",
        "        \"config_list\": config_list\n",
        "    },\n",
        ")\n",
        "\n",
        "# Start a sequence of two-agent chats between the number agent and\n",
        "# the group chat manager.\n",
        "chat_result = number_agent.initiate_chats(\n",
        "    [\n",
        "        {\n",
        "            \"recipient\": group_chat_manager_with_intros,\n",
        "            \"message\": \"My number is 3, I want to turn it into 13.\",\n",
        "        },\n",
        "        {\n",
        "            \"recipient\": group_chat_manager_with_intros,\n",
        "            \"message\": \"Turn this number to 32.\",\n",
        "        },\n",
        "    ]\n",
        ")"
      ],
      "outputs": [
        {
          "output_type": "stream",
          "name": "stdout",
          "text": "\u001b[34m\n********************************************************************************\u001b[0m\n\u001b[34mStarting a new chat....\u001b[0m\n\u001b[34m\n********************************************************************************\u001b[0m\n\u001b[33mNumber_Agent\u001b[0m (to chat_manager):\n\nMy number is 3, I want to turn it into 13.\n\n--------------------------------------------------------------------------------\n\u001b[32m\nNext speaker: Adder_Agent\n\u001b[0m\n\u001b[33mAdder_Agent\u001b[0m (to chat_manager):\n\n4\n\n--------------------------------------------------------------------------------\n\u001b[32m\nNext speaker: Adder_Agent\n\u001b[0m\n\u001b[33mAdder_Agent\u001b[0m (to chat_manager):\n\n1.\n\n--------------------------------------------------------------------------------\n\u001b[32m\nNext speaker: Adder_Agent\n\u001b[0m\n\u001b[33mAdder_Agent\u001b[0m (to chat_manager):\n\nI'm sorry, but you input the directive specifically for Adder_Agent to respond. Please ask Number_Agent directly for number transformations that are not simple additions.\n\n--------------------------------------------------------------------------------\n\u001b[32m\nNext speaker: Subtracter_Agent\n\u001b[0m\n\u001b[33mSubtracter_Agent\u001b[0m (to chat_manager):\n\n2\n\n--------------------------------------------------------------------------------\n\u001b[32m\nNext speaker: Adder_Agent\n\u001b[0m\n\u001b[33mAdder_Agent\u001b[0m (to chat_manager):\n\n3\n\n--------------------------------------------------------------------------------\n\u001b[34m\n********************************************************************************\u001b[0m\n\u001b[34mStarting a new chat....\u001b[0m\n\u001b[34m\n********************************************************************************\u001b[0m\n\u001b[33mNumber_Agent\u001b[0m (to chat_manager):\n\nTurn this number to 32.\nContext: \n3\n\n--------------------------------------------------------------------------------\n\u001b[32m\nNext speaker: Multiplier_Agent\n\u001b[0m\n\u001b[33mMultiplier_Agent\u001b[0m (to chat_manager):\n\n64\n\n--------------------------------------------------------------------------------\n\u001b[32m\nNext speaker: Divider_Agent\n\u001b[0m\n\u001b[33mDivider_Agent\u001b[0m (to chat_manager):\n\n1.5\n\n--------------------------------------------------------------------------------\n\u001b[32m\nNext speaker: Number_Agent\n\u001b[0m\n\u001b[33mNumber_Agent\u001b[0m (to chat_manager):\n\n0.75\n\n--------------------------------------------------------------------------------\n\u001b[32m\nNext speaker: Multiplier_Agent\n\u001b[0m\n\u001b[33mMultiplier_Agent\u001b[0m (to chat_manager):\n\n1.5\n\n--------------------------------------------------------------------------------\n\u001b[32m\nNext speaker: Subtracter_Agent\n\u001b[0m\n\u001b[33mSubtracter_Agent\u001b[0m (to chat_manager):\n\n2\n\n--------------------------------------------------------------------------------\n"
        },
        {
          "output_type": "stream",
          "name": "stderr",
          "text": "/anaconda/envs/azureml_py310_sdkv2/lib/python3.10/site-packages/autogen/agentchat/chat.py:47: UserWarning: Repetitive recipients detected: The chat history will be cleared by default if a recipient appears more than once. To retain the chat history, please set 'clear_history=False' in the configuration of the repeating agent.\n  warnings.warn(\n"
        }
      ],
      "execution_count": 16,
      "metadata": {
        "gather": {
          "logged": 1730872499484
        }
      }
    },
    {
      "cell_type": "markdown",
      "source": [
        "In the above example, the Group Chat Manager runs the group chat two times.\n",
        "In the first time the number 3 becomes 13, and the last message of this group chat\n",
        "is being used as the carryover for the next group chat, which starts from 13.\n",
        "\n",
        "You can also see from the warning message that the Group Chat Manager's\n",
        "history is being cleared after the first group chat, which is the default.\n",
        "To keep the history of the Group Chat Manager, \n",
        "you can set the `clear_history=False` for the first chat."
      ],
      "metadata": {}
    },
    {
      "cell_type": "markdown",
      "source": [
        "### Constrained Speaker Selection\n",
        "\n",
        "Group chat is a powerful conversation pattern, but it can be hard to control\n",
        "if the number of participating agents is large.\n",
        "AutoGen provides a way to constrain the selection of the next speaker\n",
        "by using the `allowed_or_disallowed_speaker_transitions` argument of the \n",
        "`GroupChat` class.\n",
        "\n",
        "The `allowed_or_disallowed_speaker_transitions` argument is a dictionary\n",
        "that maps a given agent to a list of agents that can (or cannot) \n",
        "be selected to speak next. The `speaker_transitions_type` argument specifies\n",
        "whether the transitions are allowed or disallowed.\n",
        "\n",
        "Here is an example:"
      ],
      "metadata": {}
    },
    {
      "cell_type": "code",
      "source": [
        "allowed_transitions = {\n",
        "    number_agent: [adder_agent, number_agent],\n",
        "    adder_agent: [multiplier_agent, number_agent],\n",
        "    subtracter_agent: [divider_agent, number_agent],\n",
        "    multiplier_agent: [subtracter_agent, number_agent],\n",
        "    divider_agent: [adder_agent, number_agent],\n",
        "}"
      ],
      "outputs": [],
      "execution_count": 17,
      "metadata": {
        "gather": {
          "logged": 1730872499682
        }
      }
    },
    {
      "cell_type": "markdown",
      "source": [
        "In this example, the allowed transitions are specified for each agent.\n",
        "The Number Agent can be followed by the Adder Agent and the Number Agent, \n",
        "the Adder Agent can be followed by the Multiplier Agent and the Number Agent,\n",
        "and so on.\n",
        "Let's put this into the group chat and see how it works.\n",
        "The `speaker_transitions_type` is set to `allowed` so the transitions are\n",
        "positive constraints."
      ],
      "metadata": {}
    },
    {
      "cell_type": "code",
      "source": [
        "constrained_graph_chat = GroupChat(\n",
        "    agents=[adder_agent, multiplier_agent, subtracter_agent, divider_agent, number_agent],\n",
        "    allowed_or_disallowed_speaker_transitions=allowed_transitions,\n",
        "    speaker_transitions_type=\"allowed\",\n",
        "    messages=[],\n",
        "    max_round=12,\n",
        "    send_introductions=True,\n",
        ")\n",
        "\n",
        "constrained_group_chat_manager = GroupChatManager(\n",
        "    groupchat=constrained_graph_chat,\n",
        "    llm_config={\n",
        "        \"cache_seed\": None,\n",
        "        \"config_list\": config_list\n",
        "    },\n",
        ")\n",
        "\n",
        "chat_result = number_agent.initiate_chat(\n",
        "    constrained_group_chat_manager,\n",
        "    message=\"My number is 3, I want to turn it into 10. Once I get to 10, keep it there.\",\n",
        "    summary_method=\"reflection_with_llm\",\n",
        ")"
      ],
      "outputs": [
        {
          "output_type": "stream",
          "name": "stdout",
          "text": "\u001b[33mNumber_Agent\u001b[0m (to chat_manager):\n\nMy number is 3, I want to turn it into 10. Once I get to 10, keep it there.\n\n--------------------------------------------------------------------------------\n\u001b[32m\nNext speaker: Adder_Agent\n\u001b[0m\n\u001b[33mAdder_Agent\u001b[0m (to chat_manager):\n\n9\n\n--------------------------------------------------------------------------------\n\u001b[32m\nNext speaker: Multiplier_Agent\n\u001b[0m\n\u001b[33mMultiplier_Agent\u001b[0m (to chat_manager):\n\n2\n\n--------------------------------------------------------------------------------\n\u001b[32m\nNext speaker: Subtracter_Agent\n\u001b[0m\n\u001b[33mSubtracter_Agent\u001b[0m (to chat_manager):\n\nPlease provide the number you would like me to process.\n\n--------------------------------------------------------------------------------\n\u001b[32m\nNext speaker: Number_Agent\n\u001b[0m\n\u001b[33mNumber_Agent\u001b[0m (to chat_manager):\n\nSorry for the interruption! Adder_Agent, please proceed with the next number.\n\n--------------------------------------------------------------------------------\n\u001b[32m\nNext speaker: Adder_Agent\n\u001b[0m\n\u001b[33mAdder_Agent\u001b[0m (to chat_manager):\n\n4\n\n--------------------------------------------------------------------------------\n\u001b[32m\nNext speaker: Multiplier_Agent\n\u001b[0m\n\u001b[33mMultiplier_Agent\u001b[0m (to chat_manager):\n\n8\n\n--------------------------------------------------------------------------------\n\u001b[32m\nNext speaker: Subtracter_Agent\n\u001b[0m\n\u001b[33mSubtracter_Agent\u001b[0m (to chat_manager):\n\nSubtracter_Agent:\n3\n\n--------------------------------------------------------------------------------\n\u001b[32m\nNext speaker: Divider_Agent\n\u001b[0m\n\u001b[33mDivider_Agent\u001b[0m (to chat_manager):\n\nMy task is to divide numbers by 2. Please provide the next number you would like me to process.\n\n--------------------------------------------------------------------------------\n\u001b[32m\nNext speaker: Adder_Agent\n\u001b[0m\n\u001b[33mAdder_Agent\u001b[0m (to chat_manager):\n\nPlease provide me with numbers to add 1 to, and I'll return them one per line!\n\n--------------------------------------------------------------------------------\n\u001b[32m\nNext speaker: Number_Agent\n\u001b[0m\n\u001b[33mNumber_Agent\u001b[0m (to chat_manager):\n\nAlright, let's streamline this:\n\nNumber_Agent: 3 (initial)\nAdder_Agent: 4\n\n--------------------------------------------------------------------------------\n\u001b[32m\nNext speaker: Adder_Agent\n\u001b[0m\n\u001b[33mAdder_Agent\u001b[0m (to chat_manager):\n\n5\n\n--------------------------------------------------------------------------------\n"
        }
      ],
      "execution_count": 18,
      "metadata": {
        "gather": {
          "logged": 1730872619718
        }
      }
    },
    {
      "cell_type": "markdown",
      "source": [
        "This time, the agents are selected following the constraints we have specified."
      ],
      "metadata": {}
    },
    {
      "cell_type": "markdown",
      "source": [
        "### Changing the select speaker role name\n",
        "\n",
        "As part of the Group chat process, when the select_speaker_method is set to 'auto' (the default value),\n",
        "a select speaker message is sent to the LLM to determine the next speaker.\n",
        "\n",
        "Each message in the chat sequence has a `role` attribute that is typically `user`,\n",
        "`assistant`, or `system`. The select speaker message is the last in the chat\n",
        "sequence when used and, by default, has a role of `system`.\n",
        "\n",
        "When using some models, such as Mistral through Mistral.AI's API, the role on\n",
        "the last message in the chat sequence has to be `user`.\n",
        "\n",
        "To change the default behaviour, Autogen provides a way to set the value of the\n",
        "select speaker message's role to any string value by setting the\n",
        "`role_for_select_speaker_messages` parameter in the GroupChat's constructor. The\n",
        "default value is `system` and by setting it to `user` you can accommodate the\n",
        "last message role requirement of Mistral.AI's API."
      ],
      "metadata": {}
    },
    {
      "cell_type": "markdown",
      "source": [
        "## Nested Chats\n\nThe previous conversations patterns (two-agent chat, sequential chat, and group chat)\nare useful for building complex workflows, however, they do not expose a\nsingle conversational interface, which is often needed for scenarios like\nquestion-answering bots and personal assistants.\nIn some other cases, it is also useful to package a workflow into a single\nagent for reuse in a larger workflow. \nAutoGen provides a way to achieve this by using nested chats.\n\nNested chats is powered by the nested chats handler, which is a pluggable\ncomponent of `ConversableAgent`.\nThe figure below illustrates how the nested chats handler triggers\na sequence of nested chats when a message is received.\n\n![nested_chat](./assets/nested-chats.png)\n\nWhen a message comes in and passes the [human-in-the-loop component](./human-in-the-loop), \nthe nested chats handler checks if the message should trigger a nested chat\nbased on conditions specified by the user.\nIf the conditions are met, the nested chats handler starts a sequence of\nnested chats specified using the sequential chats pattern.\nIn each of the nested chats, the sender agent is always the same agent\nthat triggered the nested chats.\nIn the end, the nested chat handler uses the results of the nested chats\nto produce a response to the original message.\nBy default, the nested chat handler uses the summary of the last chat\nas the response."
      ],
      "metadata": {}
    },
    {
      "cell_type": "markdown",
      "source": [
        "Here is an example of using nested chats to build an arithmetic agent that\n",
        "packages arithmetic operations, code-based validation, and poetry into a single\n",
        "agent. This arithmetic agent takes a number transformation request like \n",
        "\"turn number 3 into 13\" and returns a poem that describes a transformation attempt.\n",
        "\n",
        "First we define the agents. We reuse the `group_chat_manager_with_intros`\n",
        "from previous example to orchestrate the arithmetic operations."
      ],
      "metadata": {}
    },
    {
      "cell_type": "code",
      "source": [
        "import tempfile\n",
        "\n",
        "temp_dir = tempfile.gettempdir()\n",
        "\n",
        "arithmetic_agent = ConversableAgent(\n",
        "    name=\"Arithmetic_Agent\",\n",
        "    llm_config=False,\n",
        "    human_input_mode=\"ALWAYS\",\n",
        "    # This agent will always require human input to make sure the code is\n",
        "    # safe to execute.\n",
        "    code_execution_config={\"use_docker\": False, \"work_dir\": temp_dir},\n",
        ")\n",
        "\n",
        "code_writer_agent = ConversableAgent(\n",
        "    name=\"Code_Writer_Agent\",\n",
        "    system_message=\"You are a code writer. You write Python script in Markdown code blocks.\",\n",
        "    llm_config={\n",
        "        \"cache_seed\": None,\n",
        "        \"config_list\": config_list\n",
        "    },\n",
        "    human_input_mode=\"NEVER\",\n",
        ")\n",
        "\n",
        "poetry_agent = ConversableAgent(\n",
        "    name=\"Poetry_Agent\",\n",
        "    system_message=\"You are an AI poet.\",\n",
        "    llm_config={\n",
        "        \"cache_seed\": None,\n",
        "        \"config_list\": config_list\n",
        "    },\n",
        "    human_input_mode=\"NEVER\",\n",
        ")"
      ],
      "outputs": [],
      "execution_count": 19,
      "metadata": {
        "gather": {
          "logged": 1730872619935
        }
      }
    },
    {
      "cell_type": "markdown",
      "source": [
        "Now we define the nested chats using the sequential chat pattern.\n",
        "All the senders are always `artihmetic_agent`."
      ],
      "metadata": {}
    },
    {
      "cell_type": "code",
      "source": [
        "nested_chats = [\n",
        "    {\n",
        "        \"recipient\": group_chat_manager_with_intros,\n",
        "        \"summary_method\": \"reflection_with_llm\",\n",
        "        \"summary_prompt\": \"Summarize the sequence of operations used to turn \" \"the source number into target number.\",\n",
        "    },\n",
        "    {\n",
        "        \"recipient\": code_writer_agent,\n",
        "        \"message\": \"Write a Python script to verify the arithmetic operations is correct.\",\n",
        "        \"summary_method\": \"reflection_with_llm\",\n",
        "    },\n",
        "    {\n",
        "        \"recipient\": poetry_agent,\n",
        "        \"message\": \"Write a poem about it.\",\n",
        "        \"max_turns\": 1,\n",
        "        \"summary_method\": \"last_msg\",\n",
        "    },\n",
        "]"
      ],
      "outputs": [],
      "execution_count": 20,
      "metadata": {
        "gather": {
          "logged": 1730872620124
        }
      }
    },
    {
      "cell_type": "markdown",
      "source": [
        "Now we register the nested chats handler to the `arithmetic_agent` and\n",
        "set the conditions for triggering the nested chats."
      ],
      "metadata": {}
    },
    {
      "cell_type": "code",
      "source": [
        "arithmetic_agent.register_nested_chats(\n",
        "    nested_chats,\n",
        "    # The trigger function is used to determine if the agent should start the nested chat\n",
        "    # given the sender agent.\n",
        "    # In this case, the arithmetic agent will not start the nested chats if the sender is\n",
        "    # from the nested chats' recipient to avoid recursive calls.\n",
        "    trigger=lambda sender: sender not in [group_chat_manager_with_intros, code_writer_agent, poetry_agent],\n",
        ")"
      ],
      "outputs": [],
      "execution_count": 21,
      "metadata": {
        "gather": {
          "logged": 1730872620318
        }
      }
    },
    {
      "cell_type": "markdown",
      "source": [
        "Finally, we call `generate_reply` to get a response from the `arithmetic_agent`\n",
        "-- this will trigger a sequence of nested chats and return the summary of the\n",
        "last nested chat as the response."
      ],
      "metadata": {}
    },
    {
      "cell_type": "code",
      "source": [
        "# Instead of using `initiate_chat` method to start another conversation,\n",
        "# we can use the `generate_reply` method to get single reply to a message directly.\n",
        "reply = arithmetic_agent.generate_reply(\n",
        "    messages=[{\"role\": \"user\", \"content\": \"I have a number 3 and I want to turn it into 7.\"}]\n",
        ")"
      ],
      "outputs": [
        {
          "output_type": "stream",
          "name": "stdout",
          "text": "\u001b[31m\n>>>>>>>> NO HUMAN INPUT RECEIVED.\u001b[0m\n\u001b[31m\n>>>>>>>> USING AUTO REPLY...\u001b[0m\n\u001b[34m\n********************************************************************************\u001b[0m\n\u001b[34mStarting a new chat....\u001b[0m\n\u001b[34m\n********************************************************************************\u001b[0m\n\u001b[33mArithmetic_Agent\u001b[0m (to chat_manager):\n\nI have a number 3 and I want to turn it into 7.\n\n--------------------------------------------------------------------------------\n\u001b[32m\nNext speaker: Adder_Agent\n\u001b[0m\n\u001b[33mAdder_Agent\u001b[0m (to chat_manager):\n\nSure, here’s how you can turn the number 3 into 7 using the agents available:\n\n1. Give the number 3 to Adder_Agent.\n   - Adder_Agent: \\(3 + 1 = 4\\)\n\n2. Give the result \\(4\\) to Adder_Agent again.\n   - Adder_Agent: \\(4 + 1 = 5\\)\n\n3. Give the result \\(5\\) to Adder_Agent.\n   - Adder_Agent: \\(5 + 1 = 6\\)\n\n4. Finally, give the result \\(6\\) to Adder_Agent.\n   - Adder_Agent: \\(6 + 1 = 7\\)\n\nSo, by applying Adder_Agent four times, we turned the number 3 into 7.\n\n--------------------------------------------------------------------------------\n\u001b[32m\nNext speaker: Number_Agent\n\u001b[0m\n\u001b[33mNumber_Agent\u001b[0m (to chat_manager):\n\nTo solve this problem using the available agents, you can follow these steps:\n\n1. Start with the number 3.\n2. Use Adder_Agent four times to increment the number by 1 each time.\n\nHere's the process:\n\n- Start with 3.\n- Use Adder_Agent: 3 + 1 = 4.\n- Use Adder_Agent: 4 + 1 = 5.\n- Use Adder_Agent: 5 + 1 = 6.\n- Use Adder_Agent: 6 + 1 = 7.\n\nSo, you can turn the number 3 into 7 by adding 1 four times.\n\n--------------------------------------------------------------------------------\n\u001b[32m\nNext speaker: Adder_Agent\n\u001b[0m\n\u001b[33mAdder_Agent\u001b[0m (to chat_manager):\n\n3\n\n--------------------------------------------------------------------------------\n\u001b[32m\nNext speaker: Adder_Agent\n\u001b[0m\n\u001b[33mAdder_Agent\u001b[0m (to chat_manager):\n\n4\n\n--------------------------------------------------------------------------------\n\u001b[32m\nNext speaker: Adder_Agent\n\u001b[0m\n\u001b[33mAdder_Agent\u001b[0m (to chat_manager):\n\n\n\n--------------------------------------------------------------------------------\n\u001b[34m\n********************************************************************************\u001b[0m\n\u001b[34mStarting a new chat....\u001b[0m\n\u001b[34m\n********************************************************************************\u001b[0m\n\u001b[33mArithmetic_Agent\u001b[0m (to Code_Writer_Agent):\n\nWrite a Python script to verify the arithmetic operations is correct.\nContext: \nTo transform the number 3 into 7, use the Adder_Agent to add 1 repeatedly: \n\n1. 3 + 1 = 4\n2. 4 + 1 = 5\n3. 5 + 1 = 6\n4. 6 + 1 = 7\n\nBy applying Adder_Agent four times, you reach the number 7.\n\n--------------------------------------------------------------------------------\n\u001b[33mCode_Writer_Agent\u001b[0m (to Arithmetic_Agent):\n\n```python\nclass Adder_Agent:\n    def __init__(self):\n        pass\n\n    def add(self, number, increment=1):\n        return number + increment\n\n\ndef verify_arithmetic_operations(start, end, agent, steps):\n    current_value = start\n    for step in range(steps):\n        current_value = agent.add(current_value)\n        print(f\"Step {step + 1}: {current_value}\")\n\n    return current_value == end\n\n\n# Configuration\nstart_number = 3\nend_number = 7\nnumber_of_steps = 4\nadder_agent = Adder_Agent()\n\n# Verify the operations\nresult = verify_arithmetic_operations(start_number, end_number, adder_agent, number_of_steps)\nif result:\n    print(\"The arithmetic operations are correct.\")\nelse:\n    print(\"The arithmetic operations are NOT correct.\")\n```\n\nTo use this script:\n1. Instantiate the `Adder_Agent`.\n2. Call `verify_arithmetic_operations()` with the starting number, the target number, the adder agent, and the number of steps.\n3. The script will print each step and ultimately verify if the target number is reached correctly.\n\n--------------------------------------------------------------------------------\n\u001b[31m\n>>>>>>>> NO HUMAN INPUT RECEIVED.\u001b[0m\n\u001b[31m\n>>>>>>>> USING AUTO REPLY...\u001b[0m\n\u001b[31m\n>>>>>>>> EXECUTING CODE BLOCK 0 (inferred language is python)...\u001b[0m\n\u001b[33mArithmetic_Agent\u001b[0m (to Code_Writer_Agent):\n\nexitcode: 0 (execution succeeded)\nCode output: \nStep 1: 4\nStep 2: 5\nStep 3: 6\nStep 4: 7\nThe arithmetic operations are correct.\n\n\n--------------------------------------------------------------------------------\n\u001b[33mCode_Writer_Agent\u001b[0m (to Arithmetic_Agent):\n\nIt looks like the script executed successfully and verified that the arithmetic operations are correct. If you have any further modifications, questions, or additional tasks, feel free to let me know!\n\n--------------------------------------------------------------------------------\n\u001b[34m\n********************************************************************************\u001b[0m\n\u001b[34mStarting a new chat....\u001b[0m\n\u001b[34m\n********************************************************************************\u001b[0m\n\u001b[33mArithmetic_Agent\u001b[0m (to Poetry_Agent):\n\nWrite a poem about it.\nContext: \nTo transform the number 3 into 7, use the Adder_Agent to add 1 repeatedly: \n\n1. 3 + 1 = 4\n2. 4 + 1 = 5\n3. 5 + 1 = 6\n4. 6 + 1 = 7\n\nBy applying Adder_Agent four times, you reach the number 7.\nA Python script was provided and executed successfully, verifying that applying an `Adder_Agent` to add 1 repeatedly starting from 3 for four steps correctly results in the number 7. The script confirmed the arithmetic operations were correct.\n\n--------------------------------------------------------------------------------\n\u001b[33mPoetry_Agent\u001b[0m (to Arithmetic_Agent):\n\nOh, Arithmetic Agent of sublime design,\nTraversing digits on a numerical line.\nIn the land of integers, you traverse,\nWith Python's script, precise and terse.\n\nFrom humble 3, a journey starts anew,\nEach addition, a drop of logic’s dew.\nEnter Adder_Agent, with a gentle nudge,\nIn steps so small, no need to judge.\n\nFirst, 3 plus 1, and 4 does greet,\nProgress marked in every decimal beat.\nThen 4 morphs to 5, a simple glide,\nArithmetic’s truth, it cannot hide.\n\nAgain, 5 turns to 6, the path is clear,\nEach sum unfolds with naught to fear.\nThe final step, 6 plus 1 is done,\nAnd thus embraces 7, our sought-for sum.\n\nThe script ran true, confirming every move,\nIn binary whispers, numbers improve.\nFour measured steps, precise and neat,\nTo transcend from 3, to 7 greet.\n\nOh, Arithmetic Agent, keeper of the gate,\nWith each addition, you dominate fate.\nIn Python’s realm, where logic lays bare,\nThe Adder_Agent’s task is clear and fair.\n\nIn numbers you find symmetry and grace,\nIncremental steps in a ceaseless race.\nFrom 3 to 7, a journey complete,\nYour algorithm's wisdom, forever replete.\n\n--------------------------------------------------------------------------------\n"
        }
      ],
      "execution_count": 22,
      "metadata": {
        "gather": {
          "logged": 1730872788484
        }
      }
    },
    {
      "cell_type": "markdown",
      "source": [
        "A poem is returned as the response, which describes the transformation attempt\n",
        "from 3 to 7."
      ],
      "metadata": {}
    },
    {
      "cell_type": "markdown",
      "source": [
        "The implementation of the nested chats handler makes use of the\n",
        "[`register_reply`](/docs/reference/agentchat/conversable_agent/#register_reply)\n",
        "method, which allows you to make extensive customization to\n",
        " `ConversableAgent`. The GroupChatManager uses the same mechanism to implement the group chat.\n",
        "\n",
        "Nested chat is a powerful conversation pattern that allows you to package\n",
        "complex workflows into a single agent.\n",
        "You can hide [tool usages](/docs/tutorial/tool-use) within a single agent by having the tool-caller agent \n",
        "starts a nested chat with a tool-executor agent and then use the result\n",
        "of the nested chat to generate a response.\n",
        "See the [nested chats for tool use notebook](/docs/notebooks/agentchat_nested_chats_chess) for an example."
      ],
      "metadata": {}
    },
    {
      "cell_type": "markdown",
      "source": [
        "## Summary\n",
        "\n",
        "In this chapter, we covered two-agent chat, sequential chat, group chat,\n",
        "and nested chat patterns. You can compose these patterns like LEGO blocks to \n",
        "create complex workflows. You can also use [`register_reply`](/docs/reference/agentchat/conversable_agent/#register_reply) to create new patterns.\n",
        "\n",
        "This is the last chapter on basic AutoGen concepts. \n",
        "In the next chatper, we will give you some tips on what to do next."
      ],
      "metadata": {}
    }
  ],
  "metadata": {
    "kernelspec": {
      "name": "python310-sdkv2",
      "language": "python",
      "display_name": "Python 3.10 - SDK v2"
    },
    "language_info": {
      "name": "python",
      "version": "3.10.14",
      "mimetype": "text/x-python",
      "codemirror_mode": {
        "name": "ipython",
        "version": 3
      },
      "pygments_lexer": "ipython3",
      "nbconvert_exporter": "python",
      "file_extension": ".py"
    },
    "microsoft": {
      "ms_spell_check": {
        "ms_spell_check_language": "en"
      },
      "host": {
        "AzureML": {
          "notebookHasBeenCompleted": true
        }
      }
    },
    "kernel_info": {
      "name": "python310-sdkv2"
    },
    "nteract": {
      "version": "nteract-front-end@1.0.0"
    }
  },
  "nbformat": 4,
  "nbformat_minor": 2
}
